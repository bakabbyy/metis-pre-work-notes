{
  "nbformat": 4,
  "nbformat_minor": 0,
  "metadata": {
    "colab": {
      "name": "pickle_saving_objects_for_later.ipynb",
      "provenance": [],
      "collapsed_sections": []
    },
    "kernelspec": {
      "name": "python3",
      "display_name": "Python 3"
    }
  },
  "cells": [
    {
      "cell_type": "code",
      "metadata": {
        "id": "6tLIzTsSLKgt",
        "colab_type": "code",
        "colab": {
          "base_uri": "https://localhost:8080/",
          "height": 68
        },
        "outputId": "0dbf5c02-e98f-4464-8f5e-0f63d0ec6b1d"
      },
      "source": [
        "import sys\n",
        "print(\"Python Version:\", sys.version, '\\n')"
      ],
      "execution_count": 1,
      "outputs": [
        {
          "output_type": "stream",
          "text": [
            "Python Version: 3.6.9 (default, Nov  7 2019, 10:44:02) \n",
            "[GCC 8.3.0] \n",
            "\n"
          ],
          "name": "stdout"
        }
      ]
    },
    {
      "cell_type": "markdown",
      "metadata": {
        "id": "ZHxWXFmHLKgy",
        "colab_type": "text"
      },
      "source": [
        "# Pickle: Saving Objects for Later"
      ]
    },
    {
      "cell_type": "markdown",
      "metadata": {
        "id": "nlspPRHaLKgy",
        "colab_type": "text"
      },
      "source": [
        "Often in data science, we'll create some model or some version of our data and want to use it later. We have many options - we can save the coefficients, or save the data to csv, or...\n",
        "\n",
        "Actually, we don't have that many options. \n",
        "\n",
        "One way to overcome that is to save the python object to a file as a serialized object. That means we convert the entire object to a bunch of bytes, save those bytes into a file, and then have the ability to unpack those bytes back into their original format later. \n",
        "\n",
        "This is done by a module called `pickle`. Let's see it in action."
      ]
    },
    {
      "cell_type": "code",
      "metadata": {
        "id": "KXmnV5KVLKgz",
        "colab_type": "code",
        "colab": {}
      },
      "source": [
        "import pickle\n",
        "import random\n",
        "\n",
        "lots_of_noise = {\n",
        "    'CA': [random.randint(0,65) for _ in range(100)],\n",
        "    'IL': [random.randint(0,65) for _ in range(50)],\n",
        "    'NY': [random.randint(0,65) for _ in range(90)],\n",
        "    'WA': [random.randint(0,65) for _ in range(33)]\n",
        "}"
      ],
      "execution_count": 0,
      "outputs": []
    },
    {
      "cell_type": "code",
      "metadata": {
        "id": "fmg77OJ7LKg1",
        "colab_type": "code",
        "colab": {
          "base_uri": "https://localhost:8080/",
          "height": 54
        },
        "outputId": "d941bf18-7cb2-4412-e210-549e8baa4425"
      },
      "source": [
        "print(lots_of_noise)"
      ],
      "execution_count": 3,
      "outputs": [
        {
          "output_type": "stream",
          "text": [
            "{'CA': [42, 44, 58, 50, 14, 62, 22, 15, 7, 62, 45, 17, 5, 61, 45, 23, 31, 26, 48, 30, 62, 64, 33, 40, 28, 50, 13, 2, 22, 62, 28, 19, 52, 64, 62, 44, 3, 32, 1, 45, 43, 13, 24, 5, 12, 45, 63, 48, 21, 2, 45, 62, 48, 53, 13, 45, 54, 13, 55, 24, 25, 41, 2, 24, 6, 36, 21, 53, 19, 18, 2, 2, 40, 3, 34, 18, 4, 50, 46, 33, 30, 42, 53, 40, 59, 15, 30, 10, 11, 36, 42, 46, 37, 17, 62, 15, 18, 22, 17, 42], 'IL': [25, 6, 60, 62, 48, 43, 32, 9, 55, 43, 58, 53, 14, 16, 10, 22, 33, 33, 20, 39, 40, 16, 42, 58, 20, 30, 46, 60, 61, 3, 7, 34, 8, 9, 64, 46, 8, 7, 61, 21, 37, 65, 45, 37, 60, 25, 39, 40, 65, 47], 'NY': [43, 61, 52, 46, 29, 31, 2, 61, 13, 22, 11, 56, 39, 64, 2, 6, 18, 8, 4, 9, 28, 59, 33, 35, 2, 56, 43, 39, 13, 59, 59, 46, 7, 21, 45, 6, 22, 7, 33, 37, 31, 2, 3, 10, 61, 46, 37, 9, 12, 57, 25, 32, 34, 30, 23, 25, 4, 19, 45, 48, 53, 59, 56, 2, 25, 0, 61, 49, 65, 56, 37, 42, 61, 59, 13, 42, 10, 1, 34, 34, 62, 45, 20, 42, 6, 52, 24, 47, 21, 32], 'WA': [37, 3, 23, 4, 8, 5, 32, 53, 63, 35, 30, 25, 37, 51, 64, 55, 12, 53, 24, 44, 56, 25, 34, 24, 41, 60, 23, 44, 32, 49, 58, 64, 31]}\n"
          ],
          "name": "stdout"
        }
      ]
    },
    {
      "cell_type": "code",
      "metadata": {
        "id": "Lt5K9caWLKg3",
        "colab_type": "code",
        "colab": {
          "base_uri": "https://localhost:8080/",
          "height": 119
        },
        "outputId": "d20c9074-9937-492e-bb66-1fafaa8d595e"
      },
      "source": [
        "whos"
      ],
      "execution_count": 4,
      "outputs": [
        {
          "output_type": "stream",
          "text": [
            "Variable        Type      Data/Info\n",
            "-----------------------------------\n",
            "lots_of_noise   dict      n=4\n",
            "pickle          module    <module 'pickle' from '/u<...>lib/python3.6/pickle.py'>\n",
            "random          module    <module 'random' from '/u<...>lib/python3.6/random.py'>\n",
            "sys             module    <module 'sys' (built-in)>\n"
          ],
          "name": "stdout"
        }
      ]
    },
    {
      "cell_type": "markdown",
      "metadata": {
        "id": "EkOMDCSCLKg5",
        "colab_type": "text"
      },
      "source": [
        "We can see in this `whos` command that the object `lots_of_noise` exists and is a `dict` with 4 keys. Nice. Now let's look at our file system and verify that there isn't a file called `noise.pickle`."
      ]
    },
    {
      "cell_type": "code",
      "metadata": {
        "id": "988AeZA_LKg6",
        "colab_type": "code",
        "colab": {
          "base_uri": "https://localhost:8080/",
          "height": 34
        },
        "outputId": "04201c8d-affd-4cd0-94a4-0b1f07bd1347"
      },
      "source": [
        "!ls"
      ],
      "execution_count": 5,
      "outputs": [
        {
          "output_type": "stream",
          "text": [
            "sample_data\n"
          ],
          "name": "stdout"
        }
      ]
    },
    {
      "cell_type": "markdown",
      "metadata": {
        "id": "SNJtAtVJLKg7",
        "colab_type": "text"
      },
      "source": [
        "Okay, now we're ready to create a file and write the bytes to it. To do this with `pickle`, we use python's read-write streamer `open` and create a writable-binary (`wb`) file. We'll then use `pickle.dump` to put an object into that file as a string of bytes."
      ]
    },
    {
      "cell_type": "code",
      "metadata": {
        "id": "EhsdDc5cLKg8",
        "colab_type": "code",
        "colab": {}
      },
      "source": [
        "with open('noise.pickle', 'wb') as to_write:\n",
        "    pickle.dump(lots_of_noise, to_write)"
      ],
      "execution_count": 0,
      "outputs": []
    },
    {
      "cell_type": "code",
      "metadata": {
        "id": "jqB0MMkkLKg_",
        "colab_type": "code",
        "colab": {
          "base_uri": "https://localhost:8080/",
          "height": 34
        },
        "outputId": "33dc3385-36fa-4f25-f4c9-815ef784f9bd"
      },
      "source": [
        "!ls"
      ],
      "execution_count": 7,
      "outputs": [
        {
          "output_type": "stream",
          "text": [
            "noise.pickle  sample_data\n"
          ],
          "name": "stdout"
        }
      ]
    },
    {
      "cell_type": "markdown",
      "metadata": {
        "id": "uy3LgdpELKhB",
        "colab_type": "text"
      },
      "source": [
        "Now let's delete `lots_of_noise` and prove to ourselves it doesn't exist in Python's memory anymore."
      ]
    },
    {
      "cell_type": "code",
      "metadata": {
        "id": "DVus9NB2LKhC",
        "colab_type": "code",
        "colab": {}
      },
      "source": [
        "del lots_of_noise"
      ],
      "execution_count": 0,
      "outputs": []
    },
    {
      "cell_type": "code",
      "metadata": {
        "id": "v5dh9va9LKhE",
        "colab_type": "code",
        "colab": {
          "base_uri": "https://localhost:8080/",
          "height": 119
        },
        "outputId": "93779eae-a806-484d-d333-2c011f2ba54c"
      },
      "source": [
        "whos"
      ],
      "execution_count": 9,
      "outputs": [
        {
          "output_type": "stream",
          "text": [
            "Variable   Type              Data/Info\n",
            "--------------------------------------\n",
            "pickle     module            <module 'pickle' from '/u<...>lib/python3.6/pickle.py'>\n",
            "random     module            <module 'random' from '/u<...>lib/python3.6/random.py'>\n",
            "sys        module            <module 'sys' (built-in)>\n",
            "to_write   BufferedWriter    <_io.BufferedWriter name='noise.pickle'>\n"
          ],
          "name": "stdout"
        }
      ]
    },
    {
      "cell_type": "code",
      "metadata": {
        "id": "Uy7t8R1iLKhG",
        "colab_type": "code",
        "colab": {
          "base_uri": "https://localhost:8080/",
          "height": 164
        },
        "outputId": "9c4f1430-5ecd-4a37-89ac-5feb1561c036"
      },
      "source": [
        "print(lots_of_noise)"
      ],
      "execution_count": 10,
      "outputs": [
        {
          "output_type": "error",
          "ename": "NameError",
          "evalue": "ignored",
          "traceback": [
            "\u001b[0;31m---------------------------------------------------------------------------\u001b[0m",
            "\u001b[0;31mNameError\u001b[0m                                 Traceback (most recent call last)",
            "\u001b[0;32m<ipython-input-10-69f22b4d5ca8>\u001b[0m in \u001b[0;36m<module>\u001b[0;34m()\u001b[0m\n\u001b[0;32m----> 1\u001b[0;31m \u001b[0mprint\u001b[0m\u001b[0;34m(\u001b[0m\u001b[0mlots_of_noise\u001b[0m\u001b[0;34m)\u001b[0m\u001b[0;34m\u001b[0m\u001b[0;34m\u001b[0m\u001b[0m\n\u001b[0m",
            "\u001b[0;31mNameError\u001b[0m: name 'lots_of_noise' is not defined"
          ]
        }
      ]
    },
    {
      "cell_type": "markdown",
      "metadata": {
        "id": "hAjbqnOPLKhI",
        "colab_type": "text"
      },
      "source": [
        "Lovely. It's dead forever. Or is it?\n",
        "\n",
        "Let's open that `noise.pickle` file with read-binary (`rb`) mode. Then we'll ask pickle to retrieve the file with `pickle.load` and store it back in a variable."
      ]
    },
    {
      "cell_type": "code",
      "metadata": {
        "id": "RX-Q0q7_LKhI",
        "colab_type": "code",
        "colab": {}
      },
      "source": [
        "with open('noise.pickle','rb') as read_file:\n",
        "    new_noise = pickle.load(read_file)"
      ],
      "execution_count": 0,
      "outputs": []
    },
    {
      "cell_type": "code",
      "metadata": {
        "id": "zfXNyEiULKhK",
        "colab_type": "code",
        "colab": {
          "base_uri": "https://localhost:8080/",
          "height": 54
        },
        "outputId": "436bc4a4-6e2b-457d-f0a0-3a473b75caf7"
      },
      "source": [
        "print(new_noise)"
      ],
      "execution_count": 12,
      "outputs": [
        {
          "output_type": "stream",
          "text": [
            "{'CA': [42, 44, 58, 50, 14, 62, 22, 15, 7, 62, 45, 17, 5, 61, 45, 23, 31, 26, 48, 30, 62, 64, 33, 40, 28, 50, 13, 2, 22, 62, 28, 19, 52, 64, 62, 44, 3, 32, 1, 45, 43, 13, 24, 5, 12, 45, 63, 48, 21, 2, 45, 62, 48, 53, 13, 45, 54, 13, 55, 24, 25, 41, 2, 24, 6, 36, 21, 53, 19, 18, 2, 2, 40, 3, 34, 18, 4, 50, 46, 33, 30, 42, 53, 40, 59, 15, 30, 10, 11, 36, 42, 46, 37, 17, 62, 15, 18, 22, 17, 42], 'IL': [25, 6, 60, 62, 48, 43, 32, 9, 55, 43, 58, 53, 14, 16, 10, 22, 33, 33, 20, 39, 40, 16, 42, 58, 20, 30, 46, 60, 61, 3, 7, 34, 8, 9, 64, 46, 8, 7, 61, 21, 37, 65, 45, 37, 60, 25, 39, 40, 65, 47], 'NY': [43, 61, 52, 46, 29, 31, 2, 61, 13, 22, 11, 56, 39, 64, 2, 6, 18, 8, 4, 9, 28, 59, 33, 35, 2, 56, 43, 39, 13, 59, 59, 46, 7, 21, 45, 6, 22, 7, 33, 37, 31, 2, 3, 10, 61, 46, 37, 9, 12, 57, 25, 32, 34, 30, 23, 25, 4, 19, 45, 48, 53, 59, 56, 2, 25, 0, 61, 49, 65, 56, 37, 42, 61, 59, 13, 42, 10, 1, 34, 34, 62, 45, 20, 42, 6, 52, 24, 47, 21, 32], 'WA': [37, 3, 23, 4, 8, 5, 32, 53, 63, 35, 30, 25, 37, 51, 64, 55, 12, 53, 24, 44, 56, 25, 34, 24, 41, 60, 23, 44, 32, 49, 58, 64, 31]}\n"
          ],
          "name": "stdout"
        }
      ]
    },
    {
      "cell_type": "code",
      "metadata": {
        "id": "8x0uTQrTLKhM",
        "colab_type": "code",
        "colab": {
          "base_uri": "https://localhost:8080/",
          "height": 153
        },
        "outputId": "5abc5a27-85a5-4b8a-ad76-ffcac308e1ee"
      },
      "source": [
        "whos"
      ],
      "execution_count": 13,
      "outputs": [
        {
          "output_type": "stream",
          "text": [
            "Variable    Type              Data/Info\n",
            "---------------------------------------\n",
            "new_noise   dict              n=4\n",
            "pickle      module            <module 'pickle' from '/u<...>lib/python3.6/pickle.py'>\n",
            "random      module            <module 'random' from '/u<...>lib/python3.6/random.py'>\n",
            "read_file   BufferedReader    <_io.BufferedReader name='noise.pickle'>\n",
            "sys         module            <module 'sys' (built-in)>\n",
            "to_write    BufferedWriter    <_io.BufferedWriter name='noise.pickle'>\n"
          ],
          "name": "stdout"
        }
      ]
    },
    {
      "cell_type": "markdown",
      "metadata": {
        "id": "42pSd74lLKhO",
        "colab_type": "text"
      },
      "source": [
        "Random noise lives! We retrieved the entire structure from file. Nice."
      ]
    },
    {
      "cell_type": "markdown",
      "metadata": {
        "id": "Bn-DJuEHLKhP",
        "colab_type": "text"
      },
      "source": [
        "### Okay, but I don't use dictionaries... I use pandas."
      ]
    },
    {
      "cell_type": "code",
      "metadata": {
        "id": "MJoz_KqoLKhP",
        "colab_type": "code",
        "colab": {
          "base_uri": "https://localhost:8080/",
          "height": 204
        },
        "outputId": "7d56aa44-9b2a-4c2c-ed60-28de07d81bd6"
      },
      "source": [
        "import pandas as pd\n",
        "import numpy as np\n",
        "\n",
        "df = pd.DataFrame(np.random.uniform(-10,10, size=(100,4)), columns=['Yay','specific','column','names'])\n",
        "df.head(5)"
      ],
      "execution_count": 14,
      "outputs": [
        {
          "output_type": "execute_result",
          "data": {
            "text/html": [
              "<div>\n",
              "<style scoped>\n",
              "    .dataframe tbody tr th:only-of-type {\n",
              "        vertical-align: middle;\n",
              "    }\n",
              "\n",
              "    .dataframe tbody tr th {\n",
              "        vertical-align: top;\n",
              "    }\n",
              "\n",
              "    .dataframe thead th {\n",
              "        text-align: right;\n",
              "    }\n",
              "</style>\n",
              "<table border=\"1\" class=\"dataframe\">\n",
              "  <thead>\n",
              "    <tr style=\"text-align: right;\">\n",
              "      <th></th>\n",
              "      <th>Yay</th>\n",
              "      <th>specific</th>\n",
              "      <th>column</th>\n",
              "      <th>names</th>\n",
              "    </tr>\n",
              "  </thead>\n",
              "  <tbody>\n",
              "    <tr>\n",
              "      <th>0</th>\n",
              "      <td>4.593430</td>\n",
              "      <td>2.689579</td>\n",
              "      <td>-0.939593</td>\n",
              "      <td>-0.099346</td>\n",
              "    </tr>\n",
              "    <tr>\n",
              "      <th>1</th>\n",
              "      <td>6.537750</td>\n",
              "      <td>6.695136</td>\n",
              "      <td>-0.276259</td>\n",
              "      <td>0.759073</td>\n",
              "    </tr>\n",
              "    <tr>\n",
              "      <th>2</th>\n",
              "      <td>4.087301</td>\n",
              "      <td>8.084311</td>\n",
              "      <td>6.355566</td>\n",
              "      <td>1.042964</td>\n",
              "    </tr>\n",
              "    <tr>\n",
              "      <th>3</th>\n",
              "      <td>8.756646</td>\n",
              "      <td>5.812116</td>\n",
              "      <td>-1.474508</td>\n",
              "      <td>5.915908</td>\n",
              "    </tr>\n",
              "    <tr>\n",
              "      <th>4</th>\n",
              "      <td>-4.583467</td>\n",
              "      <td>2.871910</td>\n",
              "      <td>5.011324</td>\n",
              "      <td>6.693242</td>\n",
              "    </tr>\n",
              "  </tbody>\n",
              "</table>\n",
              "</div>"
            ],
            "text/plain": [
              "        Yay  specific    column     names\n",
              "0  4.593430  2.689579 -0.939593 -0.099346\n",
              "1  6.537750  6.695136 -0.276259  0.759073\n",
              "2  4.087301  8.084311  6.355566  1.042964\n",
              "3  8.756646  5.812116 -1.474508  5.915908\n",
              "4 -4.583467  2.871910  5.011324  6.693242"
            ]
          },
          "metadata": {
            "tags": []
          },
          "execution_count": 14
        }
      ]
    },
    {
      "cell_type": "code",
      "metadata": {
        "id": "GL8YqM_kLKhS",
        "colab_type": "code",
        "colab": {}
      },
      "source": [
        "with open('my_dataframe.pickle', 'wb') as to_write:\n",
        "    pickle.dump(df, to_write)"
      ],
      "execution_count": 0,
      "outputs": []
    },
    {
      "cell_type": "code",
      "metadata": {
        "id": "_JNoXQ7CLKhU",
        "colab_type": "code",
        "colab": {
          "base_uri": "https://localhost:8080/",
          "height": 198
        },
        "outputId": "53b91ac1-a1cc-40cc-acef-14b143b3e2c7"
      },
      "source": [
        "del df\n",
        "\n",
        "df.head(5)"
      ],
      "execution_count": 16,
      "outputs": [
        {
          "output_type": "error",
          "ename": "NameError",
          "evalue": "ignored",
          "traceback": [
            "\u001b[0;31m---------------------------------------------------------------------------\u001b[0m",
            "\u001b[0;31mNameError\u001b[0m                                 Traceback (most recent call last)",
            "\u001b[0;32m<ipython-input-16-3975f6306adf>\u001b[0m in \u001b[0;36m<module>\u001b[0;34m()\u001b[0m\n\u001b[1;32m      1\u001b[0m \u001b[0;32mdel\u001b[0m \u001b[0mdf\u001b[0m\u001b[0;34m\u001b[0m\u001b[0;34m\u001b[0m\u001b[0m\n\u001b[1;32m      2\u001b[0m \u001b[0;34m\u001b[0m\u001b[0m\n\u001b[0;32m----> 3\u001b[0;31m \u001b[0mdf\u001b[0m\u001b[0;34m.\u001b[0m\u001b[0mhead\u001b[0m\u001b[0;34m(\u001b[0m\u001b[0;36m5\u001b[0m\u001b[0;34m)\u001b[0m\u001b[0;34m\u001b[0m\u001b[0;34m\u001b[0m\u001b[0m\n\u001b[0m",
            "\u001b[0;31mNameError\u001b[0m: name 'df' is not defined"
          ]
        }
      ]
    },
    {
      "cell_type": "code",
      "metadata": {
        "id": "obJ4swetLKhW",
        "colab_type": "code",
        "colab": {
          "base_uri": "https://localhost:8080/",
          "height": 204
        },
        "outputId": "17af770d-c2a0-45b8-8afb-321c648247d7"
      },
      "source": [
        "with open('my_dataframe.pickle','rb') as read_file:\n",
        "    new_df = pickle.load(read_file)\n",
        "    \n",
        "new_df.head(5)"
      ],
      "execution_count": 17,
      "outputs": [
        {
          "output_type": "execute_result",
          "data": {
            "text/html": [
              "<div>\n",
              "<style scoped>\n",
              "    .dataframe tbody tr th:only-of-type {\n",
              "        vertical-align: middle;\n",
              "    }\n",
              "\n",
              "    .dataframe tbody tr th {\n",
              "        vertical-align: top;\n",
              "    }\n",
              "\n",
              "    .dataframe thead th {\n",
              "        text-align: right;\n",
              "    }\n",
              "</style>\n",
              "<table border=\"1\" class=\"dataframe\">\n",
              "  <thead>\n",
              "    <tr style=\"text-align: right;\">\n",
              "      <th></th>\n",
              "      <th>Yay</th>\n",
              "      <th>specific</th>\n",
              "      <th>column</th>\n",
              "      <th>names</th>\n",
              "    </tr>\n",
              "  </thead>\n",
              "  <tbody>\n",
              "    <tr>\n",
              "      <th>0</th>\n",
              "      <td>4.593430</td>\n",
              "      <td>2.689579</td>\n",
              "      <td>-0.939593</td>\n",
              "      <td>-0.099346</td>\n",
              "    </tr>\n",
              "    <tr>\n",
              "      <th>1</th>\n",
              "      <td>6.537750</td>\n",
              "      <td>6.695136</td>\n",
              "      <td>-0.276259</td>\n",
              "      <td>0.759073</td>\n",
              "    </tr>\n",
              "    <tr>\n",
              "      <th>2</th>\n",
              "      <td>4.087301</td>\n",
              "      <td>8.084311</td>\n",
              "      <td>6.355566</td>\n",
              "      <td>1.042964</td>\n",
              "    </tr>\n",
              "    <tr>\n",
              "      <th>3</th>\n",
              "      <td>8.756646</td>\n",
              "      <td>5.812116</td>\n",
              "      <td>-1.474508</td>\n",
              "      <td>5.915908</td>\n",
              "    </tr>\n",
              "    <tr>\n",
              "      <th>4</th>\n",
              "      <td>-4.583467</td>\n",
              "      <td>2.871910</td>\n",
              "      <td>5.011324</td>\n",
              "      <td>6.693242</td>\n",
              "    </tr>\n",
              "  </tbody>\n",
              "</table>\n",
              "</div>"
            ],
            "text/plain": [
              "        Yay  specific    column     names\n",
              "0  4.593430  2.689579 -0.939593 -0.099346\n",
              "1  6.537750  6.695136 -0.276259  0.759073\n",
              "2  4.087301  8.084311  6.355566  1.042964\n",
              "3  8.756646  5.812116 -1.474508  5.915908\n",
              "4 -4.583467  2.871910  5.011324  6.693242"
            ]
          },
          "metadata": {
            "tags": []
          },
          "execution_count": 17
        }
      ]
    },
    {
      "cell_type": "markdown",
      "metadata": {
        "id": "oxlfpBnQLKhY",
        "colab_type": "text"
      },
      "source": [
        "Pickle is a great tool. One recommended way of using it is to make it an end point of every step in your process. Example:\n",
        "\n",
        "* I got my data! Nice. Pickle it and stop your \"getting the data\" notebook.\n",
        "* Load your data from pickle. Clean it. Save your clean data to a new pickle.\n",
        "* Load your cleaned_data pickle. Do analysis and visualize it.\n",
        "\n",
        "This can provide natural \"pick-up-where-I-left-off-but-before-I-broke-my-data\" points. It's a great way to control the flow of your data.\n",
        "\n",
        "#### Resources\n",
        "\n",
        "https://docs.python.org/3.7/library/pickle.html"
      ]
    },
    {
      "cell_type": "code",
      "metadata": {
        "id": "1Nr6QvqHLKhZ",
        "colab_type": "code",
        "colab": {}
      },
      "source": [
        ""
      ],
      "execution_count": 0,
      "outputs": []
    }
  ]
}