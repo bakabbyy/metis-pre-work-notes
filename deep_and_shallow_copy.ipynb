{
  "nbformat": 4,
  "nbformat_minor": 0,
  "metadata": {
    "anaconda-cloud": {},
    "kernelspec": {
      "display_name": "Python 3",
      "language": "python",
      "name": "python3"
    },
    "language_info": {
      "codemirror_mode": {
        "name": "ipython",
        "version": 3
      },
      "file_extension": ".py",
      "mimetype": "text/x-python",
      "name": "python",
      "nbconvert_exporter": "python",
      "pygments_lexer": "ipython3",
      "version": "3.6.5"
    },
    "toc": {
      "nav_menu": {
        "height": "66px",
        "width": "252px"
      },
      "number_sections": false,
      "sideBar": false,
      "skip_h1_title": false,
      "toc_cell": false,
      "toc_position": {},
      "toc_section_display": "block",
      "toc_window_display": false
    },
    "varInspector": {
      "cols": {
        "lenName": 16,
        "lenType": 16,
        "lenVar": 40
      },
      "kernels_config": {
        "python": {
          "delete_cmd_postfix": "",
          "delete_cmd_prefix": "del ",
          "library": "var_list.py",
          "varRefreshCmd": "print(var_dic_list())"
        },
        "r": {
          "delete_cmd_postfix": ") ",
          "delete_cmd_prefix": "rm(",
          "library": "var_list.r",
          "varRefreshCmd": "cat(var_dic_list()) "
        }
      },
      "types_to_exclude": [
        "module",
        "function",
        "builtin_function_or_method",
        "instance",
        "_Feature"
      ],
      "window_display": false
    },
    "colab": {
      "name": "deep_and_shallow_copy.ipynb",
      "provenance": []
    }
  },
  "cells": [
    {
      "cell_type": "code",
      "metadata": {
        "id": "FNNoXls0vT2Q",
        "colab_type": "code",
        "colab": {
          "base_uri": "https://localhost:8080/",
          "height": 68
        },
        "outputId": "c4bc3c41-9a16-4bce-9217-9837fe1a1d6f"
      },
      "source": [
        "import sys\n",
        "print(\"Python Version:\", sys.version, '\\n')"
      ],
      "execution_count": 1,
      "outputs": [
        {
          "output_type": "stream",
          "text": [
            "Python Version: 3.6.9 (default, Nov  7 2019, 10:44:02) \n",
            "[GCC 8.3.0] \n",
            "\n"
          ],
          "name": "stdout"
        }
      ]
    },
    {
      "cell_type": "markdown",
      "metadata": {
        "id": "2ciFf2YavT2V",
        "colab_type": "text"
      },
      "source": [
        "# Deep and Shallow Copy"
      ]
    },
    {
      "cell_type": "markdown",
      "metadata": {
        "id": "fLqyATEhvT2W",
        "colab_type": "text"
      },
      "source": [
        "The way Python treats variables is a bit frustrating at times. We're going to fully examine how it works today. The first thing to remember is that the variable doesn't contain the value. What it contains is the memory location of the value. So we'll need to play some games to make sure we get what we want when assigning things to variables.\n",
        "\n",
        "Let's start by looking at an example with just an integer."
      ]
    },
    {
      "cell_type": "code",
      "metadata": {
        "id": "0tenq5qFvT2X",
        "colab_type": "code",
        "colab": {
          "base_uri": "https://localhost:8080/",
          "height": 34
        },
        "outputId": "2b4f3d9a-460b-4ecb-92d1-d4bc72bd6c33"
      },
      "source": [
        "a = 5\n",
        "b = a\n",
        "a = a + 7\n",
        "\n",
        "print(b)"
      ],
      "execution_count": 2,
      "outputs": [
        {
          "output_type": "stream",
          "text": [
            "5\n"
          ],
          "name": "stdout"
        }
      ]
    },
    {
      "cell_type": "markdown",
      "metadata": {
        "id": "zGzr-EXBvT2Z",
        "colab_type": "text"
      },
      "source": [
        "Well, that behaved about as we expected. Now let's try it with a list."
      ]
    },
    {
      "cell_type": "code",
      "metadata": {
        "id": "sRW9cR5ivT2a",
        "colab_type": "code",
        "colab": {
          "base_uri": "https://localhost:8080/",
          "height": 34
        },
        "outputId": "fd31d7fa-d428-4872-ab07-73b2a7a2b4ca"
      },
      "source": [
        "a = [1,2,3,4]\n",
        "b = a\n",
        "print(b)"
      ],
      "execution_count": 3,
      "outputs": [
        {
          "output_type": "stream",
          "text": [
            "[1, 2, 3, 4]\n"
          ],
          "name": "stdout"
        }
      ]
    },
    {
      "cell_type": "code",
      "metadata": {
        "id": "LmWaqrmtvT2c",
        "colab_type": "code",
        "colab": {
          "base_uri": "https://localhost:8080/",
          "height": 34
        },
        "outputId": "76bcc773-c741-4fd6-a62f-ad45c397e803"
      },
      "source": [
        "a.append(7)\n",
        "print(b)"
      ],
      "execution_count": 4,
      "outputs": [
        {
          "output_type": "stream",
          "text": [
            "[1, 2, 3, 4, 7]\n"
          ],
          "name": "stdout"
        }
      ]
    },
    {
      "cell_type": "markdown",
      "metadata": {
        "id": "MYIN8e8PvT2e",
        "colab_type": "text"
      },
      "source": [
        "Whoa. Changing `a`, actually changed `b`. Is that what we expected. What if we do this one?"
      ]
    },
    {
      "cell_type": "code",
      "metadata": {
        "id": "grwY8bNhvT2f",
        "colab_type": "code",
        "colab": {
          "base_uri": "https://localhost:8080/",
          "height": 34
        },
        "outputId": "36631477-ba82-4be3-e560-04fa900c2ef1"
      },
      "source": [
        "a = [5,6,7,8]\n",
        "print(b)"
      ],
      "execution_count": 5,
      "outputs": [
        {
          "output_type": "stream",
          "text": [
            "[1, 2, 3, 4, 7]\n"
          ],
          "name": "stdout"
        }
      ]
    },
    {
      "cell_type": "code",
      "metadata": {
        "id": "KLFW-_jsvT2g",
        "colab_type": "code",
        "colab": {
          "base_uri": "https://localhost:8080/",
          "height": 34
        },
        "outputId": "013fa03c-e51e-4eab-e58a-0dc5f5510062"
      },
      "source": [
        "a = [1,2,3,4]\n",
        "b = a\n",
        "a[0] = 5\n",
        "print(b)"
      ],
      "execution_count": 6,
      "outputs": [
        {
          "output_type": "stream",
          "text": [
            "[5, 2, 3, 4]\n"
          ],
          "name": "stdout"
        }
      ]
    },
    {
      "cell_type": "markdown",
      "metadata": {
        "id": "FEyargTOvT2i",
        "colab_type": "text"
      },
      "source": [
        "<img src=\"deep_copy_demo/deep_copy_demo.001.jpeg\"  style=\"max-width:50%; float:right;\">\n",
        "\n",
        "Python variables work by assigning *names* to values.\n",
        "\n",
        "* Immutable objects (int, float, tuple, etc) live in one spot in memory, and multiple names can point to them.\n",
        "* Mutable ojects (lists, dictionaries, dataframes) are the same, but you can change them, so changing what one name \"holds\" affects what other \"names\" access.\n",
        "\n",
        "So changing one might affect the other. Let's look at a cartoon of the memory.\n"
      ]
    },
    {
      "cell_type": "markdown",
      "metadata": {
        "id": "EAvak3y0vT2j",
        "colab_type": "text"
      },
      "source": [
        "What if we want to make a new list that looks like `a`? Will it do the same thing as above?"
      ]
    },
    {
      "cell_type": "code",
      "metadata": {
        "id": "OT6Btf4pvT2k",
        "colab_type": "code",
        "colab": {
          "base_uri": "https://localhost:8080/",
          "height": 51
        },
        "outputId": "65c533eb-875c-4d88-bc9e-43494519309b"
      },
      "source": [
        "a = [1,2,3,4]\n",
        "b = list(a)\n",
        "a[0] = 4\n",
        "print(a)\n",
        "print(b)"
      ],
      "execution_count": 7,
      "outputs": [
        {
          "output_type": "stream",
          "text": [
            "[4, 2, 3, 4]\n",
            "[1, 2, 3, 4]\n"
          ],
          "name": "stdout"
        }
      ]
    },
    {
      "cell_type": "markdown",
      "metadata": {
        "id": "VKrpy2JovT2m",
        "colab_type": "text"
      },
      "source": [
        "<img src=\"deep_copy_demo/deep_copy_demo.002.jpeg\"  style=\"max-width:50%; float:right;\">\n",
        "\n",
        "Wait, why did that work?\n",
        "\n"
      ]
    },
    {
      "cell_type": "markdown",
      "metadata": {
        "id": "6ZBqEj-4vT2m",
        "colab_type": "text"
      },
      "source": [
        "When we called `list(a)`, we called a constructor which asked Python to make a whole new list of the values `a` contained. That's great. \n",
        "\n",
        "#### So if that's the case, something like this should work."
      ]
    },
    {
      "cell_type": "code",
      "metadata": {
        "id": "N_727bjZvT2n",
        "colab_type": "code",
        "colab": {
          "base_uri": "https://localhost:8080/",
          "height": 34
        },
        "outputId": "cfabe561-d719-461b-b333-d22bcc5c5485"
      },
      "source": [
        "a = [1,2,[3,4],5]\n",
        "b = list(a)\n",
        "a[2][0] = 1\n",
        "print(b)"
      ],
      "execution_count": 8,
      "outputs": [
        {
          "output_type": "stream",
          "text": [
            "[1, 2, [1, 4], 5]\n"
          ],
          "name": "stdout"
        }
      ]
    },
    {
      "cell_type": "markdown",
      "metadata": {
        "id": "5xDqUI76vT2o",
        "colab_type": "text"
      },
      "source": [
        "<img src=\"deep_copy_demo/deep_copy_demo.003.jpeg\" style=\"max-width:50%; float:right;\">\n",
        "\n",
        "Well. Uhh. That's weird then. What's happened? Let's go back to our cartoon of the memory.\n",
        "\n",
        "The copy we made made a copy of each element, including the list, however it made an exact copy of the list. Meaning, the list it made just points to the same elements that the list in `a` does. The nested structure didn't get a duplicate made, just the top-level list. So our nested data (the integers inside the second list) is still just at one specific location in memory. So our copies share an address that they point to."
      ]
    },
    {
      "cell_type": "markdown",
      "metadata": {
        "id": "u-PXEmKbvT2p",
        "colab_type": "text"
      },
      "source": [
        "This is known as a \"shallow copy.\" From the documentation on different types of copying:\n",
        "\n",
        ">The difference between shallow and deep copying is only relevant for compound objects (objects that contain other objects, like lists or class instances):\n",
        ">\n",
        ">- A shallow copy constructs a new compound object and then (to the extent possible) inserts references into it to the objects found in the original.\n",
        ">- A deep copy constructs a new compound object and then, recursively, inserts copies into it of the objects found in the original."
      ]
    },
    {
      "cell_type": "code",
      "metadata": {
        "id": "1XvnRiz9vT2q",
        "colab_type": "code",
        "colab": {
          "base_uri": "https://localhost:8080/",
          "height": 34
        },
        "outputId": "bda0eeef-19ea-4f49-bb90-968c15022edc"
      },
      "source": [
        "a = [1,2,[3,6],4,5]\n",
        "b = list(a)\n",
        "a[0] = 5\n",
        "print(b) # Note that b doesn't change it's 0th spot"
      ],
      "execution_count": 9,
      "outputs": [
        {
          "output_type": "stream",
          "text": [
            "[1, 2, [3, 6], 4, 5]\n"
          ],
          "name": "stdout"
        }
      ]
    },
    {
      "cell_type": "code",
      "metadata": {
        "id": "OMDhaqkTvT2s",
        "colab_type": "code",
        "colab": {
          "base_uri": "https://localhost:8080/",
          "height": 34
        },
        "outputId": "7d919539-849e-41e0-b905-5b90fdb81a8e"
      },
      "source": [
        "a[2][0] = 9\n",
        "print(b) # Note that b does change it's internal list spot 0!"
      ],
      "execution_count": 10,
      "outputs": [
        {
          "output_type": "stream",
          "text": [
            "[1, 2, [9, 6], 4, 5]\n"
          ],
          "name": "stdout"
        }
      ]
    },
    {
      "cell_type": "code",
      "metadata": {
        "id": "IUO_JZJHvT2u",
        "colab_type": "code",
        "colab": {}
      },
      "source": [
        "from copy import deepcopy\n",
        "a = [1,2,[3,6],4,5]\n",
        "b = deepcopy(a)"
      ],
      "execution_count": 0,
      "outputs": []
    },
    {
      "cell_type": "code",
      "metadata": {
        "id": "vxHGq-_6vT2x",
        "colab_type": "code",
        "colab": {
          "base_uri": "https://localhost:8080/",
          "height": 34
        },
        "outputId": "d86b9060-3b06-4038-8d06-5f9d5c213538"
      },
      "source": [
        "a[2][0] = 9\n",
        "print(b) # Note that it doesn't change once we deep copy!"
      ],
      "execution_count": 12,
      "outputs": [
        {
          "output_type": "stream",
          "text": [
            "[1, 2, [3, 6], 4, 5]\n"
          ],
          "name": "stdout"
        }
      ]
    },
    {
      "cell_type": "markdown",
      "metadata": {
        "id": "9Ra8jeNVvT2z",
        "colab_type": "text"
      },
      "source": [
        "<img src=\"deep_copy_demo/deep_copy_demo.004.jpeg\"  style=\"max-width:50%; float:right;\">\n",
        "Deep copy takes up more memory than a shallow copy, as it recreates everything recursively. However, that can be safer and necessary when working with highly nested data. If in doubt, deep copy. Unless the data's huge.\n",
        "\n",
        "In cartoon format, our deep copy looks like:\n",
        "\n",
        "\n",
        "### Additional Resources:\n",
        "- [Python Documentation](https://docs.python.org/2/library/copy.html)\n",
        "- [Video of copy types](https://www.google.com/url?sa=t&rct=j&q=&esrc=s&source=video&cd=2&cad=rja&uact=8&ved=0ahUKEwiH78iJkOLYAhVE7GMKHb3ODmsQtwIILTAB&url=https%3A%2F%2Fwww.youtube.com%2Fwatch%3Fv%3Di7ePjqf6Y-Y&usg=AOvVaw3pH-AYImBuStUn91Ap_gz4)"
      ]
    },
    {
      "cell_type": "code",
      "metadata": {
        "id": "RTz3dojivT20",
        "colab_type": "code",
        "colab": {}
      },
      "source": [
        ""
      ],
      "execution_count": 0,
      "outputs": []
    }
  ]
}