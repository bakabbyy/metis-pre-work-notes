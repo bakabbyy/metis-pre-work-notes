{
 "cells": [
  {
   "cell_type": "code",
   "execution_count": 1,
   "metadata": {},
   "outputs": [],
   "source": [
    "import pandas as pd\n",
    "import numpy as np"
   ]
  },
  {
   "cell_type": "markdown",
   "metadata": {},
   "source": [
    "## Exercise 2-1\n",
    "Based on the results in this chapter, suppose you were asked to summarize what you learned about whether first babies arrive late.  \n",
    "Which summary statistics would you use if you wanted to get a story on the evening news? Which ones would you use if you wanted to reassure an anxious patient?  \n",
    "Finally, imagine that you are Cecil Adams, author of \"The Straight Dope\", and your job is to answer the question, \"Do first babies arrive late?\" Write a paragraph that uses the results in this chapter to answer the question clearly, precisely, and honestly."
   ]
  },
  {
   "cell_type": "markdown",
   "metadata": {},
   "source": [
    "## Answer"
   ]
  },
  {
   "cell_type": "markdown",
   "metadata": {},
   "source": [
    "- To get a story on the evening news, I would use the high value counts (greater than 40 weeks). These values show a high volume of pregnancies that went well beyond the 42-week \"maximum\". To reassure an anxious patient I would show the histogram of pregnancy lengths to show there is variability in pregnancy terms, but that their prgenancy is normal if they are worried.\n",
    "- On average, first babies arrive 13 hours later than other babies. However this average is only a 0.2% difference from the typical pregnancy term, signifying there is no real difference between fist babies' and other babies' arrival time."
   ]
  },
  {
   "cell_type": "markdown",
   "metadata": {},
   "source": [
    "## Exerices 2-2\n",
    "In the repository you downloaded, you should find a file named chap02ex.ipynb; open it. Some cells are already filled in, and you should execute them. Other cells give you instructions for exercises. Follow the instructions and fill in the answers.  \n",
    "\n",
    "A solution to this exercise is in chap02sol.ipynb\n",
    "\n",
    "For the following exercises, create a file named chap02ex.py. You can find a solution in chap02soln.py."
   ]
  },
  {
   "cell_type": "markdown",
   "metadata": {},
   "source": [
    "**Other exercises done in chape02ex notebook**"
   ]
  }
 ],
 "metadata": {
  "kernelspec": {
   "display_name": "Python 3",
   "language": "python",
   "name": "python3"
  },
  "language_info": {
   "codemirror_mode": {
    "name": "ipython",
    "version": 3
   },
   "file_extension": ".py",
   "mimetype": "text/x-python",
   "name": "python",
   "nbconvert_exporter": "python",
   "pygments_lexer": "ipython3",
   "version": "3.7.4"
  }
 },
 "nbformat": 4,
 "nbformat_minor": 2
}
