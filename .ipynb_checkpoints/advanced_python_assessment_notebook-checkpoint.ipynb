{
 "cells": [
  {
   "cell_type": "markdown",
   "metadata": {},
   "source": [
    "# Problem 1"
   ]
  },
  {
   "cell_type": "code",
   "execution_count": 1,
   "metadata": {},
   "outputs": [],
   "source": [
    "import csv\n",
    "from collections import defaultdict\n",
    "\n",
    "csv_file_name = 'faculty.csv'\n",
    "f = open(csv_file_name)\n",
    "data = csv.reader(f)"
   ]
  },
  {
   "cell_type": "code",
   "execution_count": 2,
   "metadata": {},
   "outputs": [
    {
     "data": {
      "text/plain": [
       "<_csv.reader at 0x1032c1650>"
      ]
     },
     "execution_count": 2,
     "metadata": {},
     "output_type": "execute_result"
    }
   ],
   "source": [
    "data"
   ]
  },
  {
   "cell_type": "code",
   "execution_count": 3,
   "metadata": {},
   "outputs": [],
   "source": [
    "# create list of degrees\n",
    "degrees = []\n",
    "degree_count = {}\n",
    "for row in data:\n",
    "    degree = row[1].replace('.', '').strip()\n",
    "    degrees.append(degree)"
   ]
  },
  {
   "cell_type": "code",
   "execution_count": 4,
   "metadata": {},
   "outputs": [
    {
     "data": {
      "text/plain": [
       "['degree',\n",
       " 'ScD',\n",
       " 'PhD',\n",
       " 'PhD',\n",
       " 'PhD',\n",
       " 'PhD',\n",
       " 'PhD',\n",
       " 'PhD',\n",
       " 'PhD',\n",
       " 'PhD',\n",
       " 'PhD',\n",
       " 'PhD',\n",
       " 'PhD',\n",
       " 'PhD',\n",
       " 'MD MPH PhD',\n",
       " 'BSEd MS PhD',\n",
       " 'PhD',\n",
       " 'PhD',\n",
       " 'PhD',\n",
       " 'JD MA MPH MS PhD',\n",
       " 'PhD',\n",
       " 'ScD',\n",
       " 'ScD',\n",
       " 'PhD ScD',\n",
       " 'PhD',\n",
       " 'PhD',\n",
       " 'PhD',\n",
       " 'ScD',\n",
       " 'PhD',\n",
       " '0',\n",
       " 'PhD',\n",
       " 'PhD',\n",
       " 'PhD',\n",
       " 'ScD',\n",
       " 'PhD',\n",
       " 'PhD',\n",
       " 'PhD',\n",
       " 'PhD']"
      ]
     },
     "execution_count": 4,
     "metadata": {},
     "output_type": "execute_result"
    }
   ],
   "source": [
    "degrees"
   ]
  },
  {
   "cell_type": "markdown",
   "metadata": {},
   "source": [
    "Have to separate the multiple degrees"
   ]
  },
  {
   "cell_type": "code",
   "execution_count": 5,
   "metadata": {},
   "outputs": [],
   "source": [
    "new_list = []\n",
    "for degree in degrees:\n",
    "    split_degree = degree.split(' ')\n",
    "    new_list.append(split_degree)"
   ]
  },
  {
   "cell_type": "code",
   "execution_count": 6,
   "metadata": {},
   "outputs": [
    {
     "data": {
      "text/plain": [
       "[['degree'],\n",
       " ['ScD'],\n",
       " ['PhD'],\n",
       " ['PhD'],\n",
       " ['PhD'],\n",
       " ['PhD'],\n",
       " ['PhD'],\n",
       " ['PhD'],\n",
       " ['PhD'],\n",
       " ['PhD'],\n",
       " ['PhD'],\n",
       " ['PhD'],\n",
       " ['PhD'],\n",
       " ['PhD'],\n",
       " ['MD', 'MPH', 'PhD'],\n",
       " ['BSEd', 'MS', 'PhD'],\n",
       " ['PhD'],\n",
       " ['PhD'],\n",
       " ['PhD'],\n",
       " ['JD', 'MA', 'MPH', 'MS', 'PhD'],\n",
       " ['PhD'],\n",
       " ['ScD'],\n",
       " ['ScD'],\n",
       " ['PhD', 'ScD'],\n",
       " ['PhD'],\n",
       " ['PhD'],\n",
       " ['PhD'],\n",
       " ['ScD'],\n",
       " ['PhD'],\n",
       " ['0'],\n",
       " ['PhD'],\n",
       " ['PhD'],\n",
       " ['PhD'],\n",
       " ['ScD'],\n",
       " ['PhD'],\n",
       " ['PhD'],\n",
       " ['PhD'],\n",
       " ['PhD']]"
      ]
     },
     "execution_count": 6,
     "metadata": {},
     "output_type": "execute_result"
    }
   ],
   "source": [
    "new_list"
   ]
  },
  {
   "cell_type": "markdown",
   "metadata": {},
   "source": [
    "How to separate into individual entities rather than a list of lists?"
   ]
  },
  {
   "cell_type": "code",
   "execution_count": 7,
   "metadata": {},
   "outputs": [],
   "source": [
    "new_degrees = [word for degree in degrees for word in degree.split(' ')]"
   ]
  },
  {
   "cell_type": "markdown",
   "metadata": {},
   "source": [
    "This list comprehension is the same as:"
   ]
  },
  {
   "cell_type": "code",
   "execution_count": 8,
   "metadata": {},
   "outputs": [],
   "source": [
    "new_degrees = []\n",
    "for degree in degrees:\n",
    "    for word in degree.split(' '):\n",
    "        new_degrees.append(word)"
   ]
  },
  {
   "cell_type": "code",
   "execution_count": 9,
   "metadata": {},
   "outputs": [],
   "source": [
    "degree_count = defaultdict(int)\n",
    "for degree in new_degrees[1:]:\n",
    "    degree_count[degree] += 1"
   ]
  },
  {
   "cell_type": "code",
   "execution_count": 10,
   "metadata": {
    "scrolled": true
   },
   "outputs": [
    {
     "data": {
      "text/plain": [
       "defaultdict(int,\n",
       "            {'ScD': 6,\n",
       "             'PhD': 31,\n",
       "             'MD': 1,\n",
       "             'MPH': 2,\n",
       "             'BSEd': 1,\n",
       "             'MS': 2,\n",
       "             'JD': 1,\n",
       "             'MA': 1,\n",
       "             '0': 1})"
      ]
     },
     "execution_count": 10,
     "metadata": {},
     "output_type": "execute_result"
    }
   ],
   "source": [
    "degree_count"
   ]
  },
  {
   "cell_type": "markdown",
   "metadata": {},
   "source": [
    "# Problem 2"
   ]
  },
  {
   "cell_type": "code",
   "execution_count": 46,
   "metadata": {},
   "outputs": [],
   "source": [
    "import csv\n",
    "import re\n",
    "from collections import defaultdict\n",
    "\n",
    "csv_file_name = 'faculty.csv'\n",
    "f = open(csv_file_name)\n",
    "data = csv.reader(f)"
   ]
  },
  {
   "cell_type": "code",
   "execution_count": 26,
   "metadata": {},
   "outputs": [],
   "source": [
    "titles = []\n",
    "for row in data:\n",
    "    title = row[2].strip()\n",
    "    titles.append(title)"
   ]
  },
  {
   "cell_type": "code",
   "execution_count": 27,
   "metadata": {},
   "outputs": [
    {
     "data": {
      "text/plain": [
       "['title',\n",
       " 'Associate Professor of Biostatistics',\n",
       " 'Professor of Biostatistics',\n",
       " 'Assistant Professor of Biostatistics',\n",
       " 'Associate Professor of Biostatistics',\n",
       " 'Professor of Biostatistics',\n",
       " 'Professor of Biostatistics',\n",
       " 'Assistant Professor of Biostatistics',\n",
       " 'Associate Professor of Biostatistics',\n",
       " 'Professor of Biostatistics',\n",
       " 'Professor of Biostatistics',\n",
       " 'Assistant Professor of Biostatistics',\n",
       " 'Associate Professor of Biostatistics',\n",
       " 'Associate Professor of Biostatistics',\n",
       " 'Professor of Biostatistics',\n",
       " 'Professor of Biostatistics',\n",
       " 'Assistant Professor of Biostatistics',\n",
       " 'Associate Professor of Biostatistics',\n",
       " 'Professor of Biostatistics',\n",
       " 'Associate Professor of Biostatistics',\n",
       " 'Associate Professor of Biostatistics',\n",
       " 'Associate Professor of Biostatistics',\n",
       " 'Professor of Biostatistics',\n",
       " 'Professor of Biostatistics',\n",
       " 'Associate Professor of Biostatistics',\n",
       " 'Assistant Professor is Biostatistics',\n",
       " 'Associate Professor of Biostatistics',\n",
       " 'Professor of Biostatistics',\n",
       " 'Assistant Professor of Biostatistics',\n",
       " 'Assistant Professor of Biostatistics',\n",
       " 'Assistant Professor of Biostatistics',\n",
       " 'Professor of Biostatistics',\n",
       " 'Assistant Professor of Biostatistics',\n",
       " 'Professor of Biostatistics',\n",
       " 'Assistant Professor of Biostatistics',\n",
       " 'Associate Professor of Biostatistics',\n",
       " 'Assistant Professor of Biostatistics',\n",
       " 'Assistant Professor of Biostatistics']"
      ]
     },
     "execution_count": 27,
     "metadata": {},
     "output_type": "execute_result"
    }
   ],
   "source": [
    "titles"
   ]
  },
  {
   "cell_type": "code",
   "execution_count": 37,
   "metadata": {},
   "outputs": [],
   "source": [
    "title_count = defaultdict(int)\n",
    "for title in titles[1:]:\n",
    "    title_count[title] += 1"
   ]
  },
  {
   "cell_type": "code",
   "execution_count": 38,
   "metadata": {},
   "outputs": [
    {
     "data": {
      "text/plain": [
       "defaultdict(int,\n",
       "            {'Associate Professor of Biostatistics': 12,\n",
       "             'Professor of Biostatistics': 13,\n",
       "             'Assistant Professor of Biostatistics': 11,\n",
       "             'Assistant Professor is Biostatistics': 1})"
      ]
     },
     "execution_count": 38,
     "metadata": {},
     "output_type": "execute_result"
    }
   ],
   "source": [
    "title_count"
   ]
  },
  {
   "cell_type": "markdown",
   "metadata": {},
   "source": [
    "Need to replace 'is' with 'of'. Use Regex."
   ]
  },
  {
   "cell_type": "code",
   "execution_count": 16,
   "metadata": {},
   "outputs": [
    {
     "data": {
      "text/plain": [
       "<re.Match object; span=(20, 22), match='is'>"
      ]
     },
     "execution_count": 16,
     "metadata": {},
     "output_type": "execute_result"
    }
   ],
   "source": [
    "title = 'Assistant Professor is Biostatistics'\n",
    "re.search(r'\\bis\\b', title)"
   ]
  },
  {
   "cell_type": "code",
   "execution_count": 17,
   "metadata": {},
   "outputs": [
    {
     "data": {
      "text/plain": [
       "'Assistant Professor of Biostatistics'"
      ]
     },
     "execution_count": 17,
     "metadata": {},
     "output_type": "execute_result"
    }
   ],
   "source": [
    "re.sub(r'\\bis\\b', 'of', title)"
   ]
  },
  {
   "cell_type": "markdown",
   "metadata": {},
   "source": [
    "Add to loop when creating list"
   ]
  },
  {
   "cell_type": "code",
   "execution_count": 47,
   "metadata": {},
   "outputs": [],
   "source": [
    "titles = []\n",
    "for row in data:\n",
    "    title = row[2].strip()\n",
    "    title = re.sub(r'\\bis\\b', 'of', title)\n",
    "    titles.append(title)"
   ]
  },
  {
   "cell_type": "code",
   "execution_count": 48,
   "metadata": {},
   "outputs": [
    {
     "data": {
      "text/plain": [
       "['title',\n",
       " 'Associate Professor of Biostatistics',\n",
       " 'Professor of Biostatistics',\n",
       " 'Assistant Professor of Biostatistics',\n",
       " 'Associate Professor of Biostatistics',\n",
       " 'Professor of Biostatistics',\n",
       " 'Professor of Biostatistics',\n",
       " 'Assistant Professor of Biostatistics',\n",
       " 'Associate Professor of Biostatistics',\n",
       " 'Professor of Biostatistics',\n",
       " 'Professor of Biostatistics',\n",
       " 'Assistant Professor of Biostatistics',\n",
       " 'Associate Professor of Biostatistics',\n",
       " 'Associate Professor of Biostatistics',\n",
       " 'Professor of Biostatistics',\n",
       " 'Professor of Biostatistics',\n",
       " 'Assistant Professor of Biostatistics',\n",
       " 'Associate Professor of Biostatistics',\n",
       " 'Professor of Biostatistics',\n",
       " 'Associate Professor of Biostatistics',\n",
       " 'Associate Professor of Biostatistics',\n",
       " 'Associate Professor of Biostatistics',\n",
       " 'Professor of Biostatistics',\n",
       " 'Professor of Biostatistics',\n",
       " 'Associate Professor of Biostatistics',\n",
       " 'Assistant Professor of Biostatistics',\n",
       " 'Associate Professor of Biostatistics',\n",
       " 'Professor of Biostatistics',\n",
       " 'Assistant Professor of Biostatistics',\n",
       " 'Assistant Professor of Biostatistics',\n",
       " 'Assistant Professor of Biostatistics',\n",
       " 'Professor of Biostatistics',\n",
       " 'Assistant Professor of Biostatistics',\n",
       " 'Professor of Biostatistics',\n",
       " 'Assistant Professor of Biostatistics',\n",
       " 'Associate Professor of Biostatistics',\n",
       " 'Assistant Professor of Biostatistics',\n",
       " 'Assistant Professor of Biostatistics']"
      ]
     },
     "execution_count": 48,
     "metadata": {},
     "output_type": "execute_result"
    }
   ],
   "source": [
    "titles"
   ]
  },
  {
   "cell_type": "code",
   "execution_count": 49,
   "metadata": {},
   "outputs": [],
   "source": [
    "title_count = defaultdict(int)\n",
    "for title in titles[1:]:\n",
    "    title_count[title] += 1"
   ]
  },
  {
   "cell_type": "code",
   "execution_count": 50,
   "metadata": {},
   "outputs": [
    {
     "data": {
      "text/plain": [
       "defaultdict(int,\n",
       "            {'Associate Professor of Biostatistics': 12,\n",
       "             'Professor of Biostatistics': 13,\n",
       "             'Assistant Professor of Biostatistics': 12})"
      ]
     },
     "execution_count": 50,
     "metadata": {},
     "output_type": "execute_result"
    }
   ],
   "source": [
    "title_count"
   ]
  },
  {
   "cell_type": "markdown",
   "metadata": {},
   "source": [
    "# Problem 4"
   ]
  },
  {
   "cell_type": "code",
   "execution_count": 63,
   "metadata": {},
   "outputs": [],
   "source": [
    "import csv\n",
    "import re\n",
    "from collections import defaultdict\n",
    "\n",
    "csv_file_name = 'faculty.csv'\n",
    "f = open(csv_file_name)\n",
    "data = csv.reader(f)"
   ]
  },
  {
   "cell_type": "code",
   "execution_count": 64,
   "metadata": {},
   "outputs": [],
   "source": [
    "emails = []\n",
    "for row in data:\n",
    "    email = row[3].strip()\n",
    "    emails.append(email)"
   ]
  },
  {
   "cell_type": "code",
   "execution_count": 65,
   "metadata": {
    "collapsed": true
   },
   "outputs": [
    {
     "data": {
      "text/plain": [
       "['bellamys@mail.med.upenn.edu',\n",
       " 'warren@upenn.edu',\n",
       " 'bryanma@upenn.edu',\n",
       " 'jinboche@upenn.edu',\n",
       " 'sellenbe@upenn.edu',\n",
       " 'jellenbe@mail.med.upenn.edu',\n",
       " 'ruifeng@upenn.edu',\n",
       " 'bcfrench@mail.med.upenn.edu',\n",
       " 'pgimotty@upenn.edu',\n",
       " 'wguo@mail.med.upenn.edu',\n",
       " 'hsu9@mail.med.upenn.edu',\n",
       " 'rhubb@mail.med.upenn.edu',\n",
       " 'whwang@mail.med.upenn.edu',\n",
       " 'mjoffe@mail.med.upenn.edu',\n",
       " 'jrlandis@mail.med.upenn.edu',\n",
       " 'liy3@email.chop.edu',\n",
       " 'mingyao@mail.med.upenn.edu',\n",
       " 'hongzhe@upenn.edu',\n",
       " 'rlocalio@upenn.edu',\n",
       " 'nanditam@mail.med.upenn.edu',\n",
       " 'knashawn@mail.med.upenn.edu',\n",
       " 'propert@mail.med.upenn.edu',\n",
       " 'mputt@mail.med.upenn.edu',\n",
       " 'sratclif@upenn.edu',\n",
       " 'michross@upenn.edu',\n",
       " 'jaroy@mail.med.upenn.edu',\n",
       " 'msammel@cceb.med.upenn.edu',\n",
       " 'shawp@upenn.edu',\n",
       " 'rshi@mail.med.upenn.edu',\n",
       " 'hshou@mail.med.upenn.edu',\n",
       " 'jshults@mail.med.upenn.edu',\n",
       " 'alisaste@mail.med.upenn.edu',\n",
       " 'atroxel@mail.med.upenn.edu',\n",
       " 'rxiao@mail.med.upenn.edu',\n",
       " 'sxie@mail.med.upenn.edu',\n",
       " 'dxie@upenn.edu',\n",
       " 'weiyang@mail.med.upenn.edu']"
      ]
     },
     "execution_count": 65,
     "metadata": {},
     "output_type": "execute_result"
    }
   ],
   "source": [
    "emails[1:]"
   ]
  },
  {
   "cell_type": "markdown",
   "metadata": {},
   "source": [
    "REGEX match for domain"
   ]
  },
  {
   "cell_type": "code",
   "execution_count": 71,
   "metadata": {},
   "outputs": [
    {
     "data": {
      "text/plain": [
       "<re.Match object; span=(6, 16), match='@upenn.edu'>"
      ]
     },
     "execution_count": 71,
     "metadata": {},
     "output_type": "execute_result"
    }
   ],
   "source": [
    "email = 'warren@upenn.edu'\n",
    "domain = re.search(\"@[\\w.]+\", email)\n",
    "domain"
   ]
  },
  {
   "cell_type": "markdown",
   "metadata": {},
   "source": [
    "To get just the substring, use this:"
   ]
  },
  {
   "cell_type": "code",
   "execution_count": 73,
   "metadata": {},
   "outputs": [
    {
     "data": {
      "text/plain": [
       "'@upenn.edu'"
      ]
     },
     "execution_count": 73,
     "metadata": {},
     "output_type": "execute_result"
    }
   ],
   "source": [
    "domain.group()"
   ]
  },
  {
   "cell_type": "markdown",
   "metadata": {},
   "source": [
    "Loop through the list of emails and create list of domains"
   ]
  },
  {
   "cell_type": "code",
   "execution_count": 79,
   "metadata": {},
   "outputs": [],
   "source": [
    "domains = []\n",
    "for email in emails[1:]:\n",
    "    domain = re.search(\"@[\\w.]+\", email)\n",
    "    domains.append(domain.group())"
   ]
  },
  {
   "cell_type": "code",
   "execution_count": 80,
   "metadata": {},
   "outputs": [
    {
     "data": {
      "text/plain": [
       "['@mail.med.upenn.edu',\n",
       " '@upenn.edu',\n",
       " '@upenn.edu',\n",
       " '@upenn.edu',\n",
       " '@upenn.edu',\n",
       " '@mail.med.upenn.edu',\n",
       " '@upenn.edu',\n",
       " '@mail.med.upenn.edu',\n",
       " '@upenn.edu',\n",
       " '@mail.med.upenn.edu',\n",
       " '@mail.med.upenn.edu',\n",
       " '@mail.med.upenn.edu',\n",
       " '@mail.med.upenn.edu',\n",
       " '@mail.med.upenn.edu',\n",
       " '@mail.med.upenn.edu',\n",
       " '@email.chop.edu',\n",
       " '@mail.med.upenn.edu',\n",
       " '@upenn.edu',\n",
       " '@upenn.edu',\n",
       " '@mail.med.upenn.edu',\n",
       " '@mail.med.upenn.edu',\n",
       " '@mail.med.upenn.edu',\n",
       " '@mail.med.upenn.edu',\n",
       " '@upenn.edu',\n",
       " '@upenn.edu',\n",
       " '@mail.med.upenn.edu',\n",
       " '@cceb.med.upenn.edu',\n",
       " '@upenn.edu',\n",
       " '@mail.med.upenn.edu',\n",
       " '@mail.med.upenn.edu',\n",
       " '@mail.med.upenn.edu',\n",
       " '@mail.med.upenn.edu',\n",
       " '@mail.med.upenn.edu',\n",
       " '@mail.med.upenn.edu',\n",
       " '@mail.med.upenn.edu',\n",
       " '@upenn.edu',\n",
       " '@mail.med.upenn.edu']"
      ]
     },
     "execution_count": 80,
     "metadata": {},
     "output_type": "execute_result"
    }
   ],
   "source": [
    "domains"
   ]
  },
  {
   "cell_type": "markdown",
   "metadata": {},
   "source": [
    "Create a set from the list"
   ]
  },
  {
   "cell_type": "code",
   "execution_count": 76,
   "metadata": {},
   "outputs": [
    {
     "data": {
      "text/plain": [
       "{'@cceb.med.upenn.edu', '@email.chop.edu', '@mail.med.upenn.edu', '@upenn.edu'}"
      ]
     },
     "execution_count": 76,
     "metadata": {},
     "output_type": "execute_result"
    }
   ],
   "source": [
    "domain_set = set(domains)\n",
    "domain_set"
   ]
  },
  {
   "cell_type": "markdown",
   "metadata": {},
   "source": [
    "## Don't include '@'"
   ]
  },
  {
   "cell_type": "code",
   "execution_count": 84,
   "metadata": {},
   "outputs": [],
   "source": [
    "domains = []\n",
    "for email in emails[1:]:\n",
    "    domain = email[email.find('@')+1:]\n",
    "    domains.append(domain)"
   ]
  },
  {
   "cell_type": "code",
   "execution_count": 85,
   "metadata": {},
   "outputs": [
    {
     "data": {
      "text/plain": [
       "['mail.med.upenn.edu',\n",
       " 'upenn.edu',\n",
       " 'upenn.edu',\n",
       " 'upenn.edu',\n",
       " 'upenn.edu',\n",
       " 'mail.med.upenn.edu',\n",
       " 'upenn.edu',\n",
       " 'mail.med.upenn.edu',\n",
       " 'upenn.edu',\n",
       " 'mail.med.upenn.edu',\n",
       " 'mail.med.upenn.edu',\n",
       " 'mail.med.upenn.edu',\n",
       " 'mail.med.upenn.edu',\n",
       " 'mail.med.upenn.edu',\n",
       " 'mail.med.upenn.edu',\n",
       " 'email.chop.edu',\n",
       " 'mail.med.upenn.edu',\n",
       " 'upenn.edu',\n",
       " 'upenn.edu',\n",
       " 'mail.med.upenn.edu',\n",
       " 'mail.med.upenn.edu',\n",
       " 'mail.med.upenn.edu',\n",
       " 'mail.med.upenn.edu',\n",
       " 'upenn.edu',\n",
       " 'upenn.edu',\n",
       " 'mail.med.upenn.edu',\n",
       " 'cceb.med.upenn.edu',\n",
       " 'upenn.edu',\n",
       " 'mail.med.upenn.edu',\n",
       " 'mail.med.upenn.edu',\n",
       " 'mail.med.upenn.edu',\n",
       " 'mail.med.upenn.edu',\n",
       " 'mail.med.upenn.edu',\n",
       " 'mail.med.upenn.edu',\n",
       " 'mail.med.upenn.edu',\n",
       " 'upenn.edu',\n",
       " 'mail.med.upenn.edu']"
      ]
     },
     "execution_count": 85,
     "metadata": {},
     "output_type": "execute_result"
    }
   ],
   "source": [
    "domains"
   ]
  },
  {
   "cell_type": "code",
   "execution_count": null,
   "metadata": {},
   "outputs": [],
   "source": []
  }
 ],
 "metadata": {
  "kernelspec": {
   "display_name": "Python 3",
   "language": "python",
   "name": "python3"
  },
  "language_info": {
   "codemirror_mode": {
    "name": "ipython",
    "version": 3
   },
   "file_extension": ".py",
   "mimetype": "text/x-python",
   "name": "python",
   "nbconvert_exporter": "python",
   "pygments_lexer": "ipython3",
   "version": "3.7.4"
  }
 },
 "nbformat": 4,
 "nbformat_minor": 4
}
