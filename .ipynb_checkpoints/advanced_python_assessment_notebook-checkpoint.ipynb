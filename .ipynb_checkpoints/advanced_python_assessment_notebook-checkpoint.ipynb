{
 "cells": [
  {
   "cell_type": "markdown",
   "metadata": {},
   "source": [
    "# Problem 1"
   ]
  },
  {
   "cell_type": "code",
   "execution_count": 1,
   "metadata": {},
   "outputs": [],
   "source": [
    "import csv\n",
    "from collections import defaultdict\n",
    "\n",
    "csv_file_name = 'faculty.csv'\n",
    "f = open(csv_file_name)\n",
    "data = csv.reader(f)"
   ]
  },
  {
   "cell_type": "code",
   "execution_count": 2,
   "metadata": {},
   "outputs": [
    {
     "data": {
      "text/plain": [
       "<_csv.reader at 0x1032c1650>"
      ]
     },
     "execution_count": 2,
     "metadata": {},
     "output_type": "execute_result"
    }
   ],
   "source": [
    "data"
   ]
  },
  {
   "cell_type": "code",
   "execution_count": 3,
   "metadata": {},
   "outputs": [],
   "source": [
    "# create list of degrees\n",
    "degrees = []\n",
    "degree_count = {}\n",
    "for row in data:\n",
    "    degree = row[1].replace('.', '').strip()\n",
    "    degrees.append(degree)"
   ]
  },
  {
   "cell_type": "code",
   "execution_count": 4,
   "metadata": {},
   "outputs": [
    {
     "data": {
      "text/plain": [
       "['degree',\n",
       " 'ScD',\n",
       " 'PhD',\n",
       " 'PhD',\n",
       " 'PhD',\n",
       " 'PhD',\n",
       " 'PhD',\n",
       " 'PhD',\n",
       " 'PhD',\n",
       " 'PhD',\n",
       " 'PhD',\n",
       " 'PhD',\n",
       " 'PhD',\n",
       " 'PhD',\n",
       " 'MD MPH PhD',\n",
       " 'BSEd MS PhD',\n",
       " 'PhD',\n",
       " 'PhD',\n",
       " 'PhD',\n",
       " 'JD MA MPH MS PhD',\n",
       " 'PhD',\n",
       " 'ScD',\n",
       " 'ScD',\n",
       " 'PhD ScD',\n",
       " 'PhD',\n",
       " 'PhD',\n",
       " 'PhD',\n",
       " 'ScD',\n",
       " 'PhD',\n",
       " '0',\n",
       " 'PhD',\n",
       " 'PhD',\n",
       " 'PhD',\n",
       " 'ScD',\n",
       " 'PhD',\n",
       " 'PhD',\n",
       " 'PhD',\n",
       " 'PhD']"
      ]
     },
     "execution_count": 4,
     "metadata": {},
     "output_type": "execute_result"
    }
   ],
   "source": [
    "degrees"
   ]
  },
  {
   "cell_type": "markdown",
   "metadata": {},
   "source": [
    "Have to separate the multiple degrees"
   ]
  },
  {
   "cell_type": "code",
   "execution_count": 5,
   "metadata": {},
   "outputs": [],
   "source": [
    "new_list = []\n",
    "for degree in degrees:\n",
    "    split_degree = degree.split(' ')\n",
    "    new_list.append(split_degree)"
   ]
  },
  {
   "cell_type": "code",
   "execution_count": 6,
   "metadata": {},
   "outputs": [
    {
     "data": {
      "text/plain": [
       "[['degree'],\n",
       " ['ScD'],\n",
       " ['PhD'],\n",
       " ['PhD'],\n",
       " ['PhD'],\n",
       " ['PhD'],\n",
       " ['PhD'],\n",
       " ['PhD'],\n",
       " ['PhD'],\n",
       " ['PhD'],\n",
       " ['PhD'],\n",
       " ['PhD'],\n",
       " ['PhD'],\n",
       " ['PhD'],\n",
       " ['MD', 'MPH', 'PhD'],\n",
       " ['BSEd', 'MS', 'PhD'],\n",
       " ['PhD'],\n",
       " ['PhD'],\n",
       " ['PhD'],\n",
       " ['JD', 'MA', 'MPH', 'MS', 'PhD'],\n",
       " ['PhD'],\n",
       " ['ScD'],\n",
       " ['ScD'],\n",
       " ['PhD', 'ScD'],\n",
       " ['PhD'],\n",
       " ['PhD'],\n",
       " ['PhD'],\n",
       " ['ScD'],\n",
       " ['PhD'],\n",
       " ['0'],\n",
       " ['PhD'],\n",
       " ['PhD'],\n",
       " ['PhD'],\n",
       " ['ScD'],\n",
       " ['PhD'],\n",
       " ['PhD'],\n",
       " ['PhD'],\n",
       " ['PhD']]"
      ]
     },
     "execution_count": 6,
     "metadata": {},
     "output_type": "execute_result"
    }
   ],
   "source": [
    "new_list"
   ]
  },
  {
   "cell_type": "markdown",
   "metadata": {},
   "source": [
    "How to separate into individual entities rather than a list of lists?"
   ]
  },
  {
   "cell_type": "code",
   "execution_count": 7,
   "metadata": {},
   "outputs": [],
   "source": [
    "new_degrees = [word for degree in degrees for word in degree.split(' ')]"
   ]
  },
  {
   "cell_type": "markdown",
   "metadata": {},
   "source": [
    "This list comprehension is the same as:"
   ]
  },
  {
   "cell_type": "code",
   "execution_count": 8,
   "metadata": {},
   "outputs": [],
   "source": [
    "new_degrees = []\n",
    "for degree in degrees:\n",
    "    for word in degree.split(' '):\n",
    "        new_degrees.append(word)"
   ]
  },
  {
   "cell_type": "code",
   "execution_count": 9,
   "metadata": {},
   "outputs": [],
   "source": [
    "degree_count = defaultdict(int)\n",
    "for degree in new_degrees[1:]:\n",
    "    degree_count[degree] += 1"
   ]
  },
  {
   "cell_type": "code",
   "execution_count": 10,
   "metadata": {
    "scrolled": true
   },
   "outputs": [
    {
     "data": {
      "text/plain": [
       "defaultdict(int,\n",
       "            {'ScD': 6,\n",
       "             'PhD': 31,\n",
       "             'MD': 1,\n",
       "             'MPH': 2,\n",
       "             'BSEd': 1,\n",
       "             'MS': 2,\n",
       "             'JD': 1,\n",
       "             'MA': 1,\n",
       "             '0': 1})"
      ]
     },
     "execution_count": 10,
     "metadata": {},
     "output_type": "execute_result"
    }
   ],
   "source": [
    "degree_count"
   ]
  },
  {
   "cell_type": "markdown",
   "metadata": {},
   "source": [
    "# Problem 2"
   ]
  },
  {
   "cell_type": "code",
   "execution_count": 46,
   "metadata": {},
   "outputs": [],
   "source": [
    "import csv\n",
    "import re\n",
    "from collections import defaultdict\n",
    "\n",
    "csv_file_name = 'faculty.csv'\n",
    "f = open(csv_file_name)\n",
    "data = csv.reader(f)"
   ]
  },
  {
   "cell_type": "code",
   "execution_count": 26,
   "metadata": {},
   "outputs": [],
   "source": [
    "titles = []\n",
    "for row in data:\n",
    "    title = row[2].strip()\n",
    "    titles.append(title)"
   ]
  },
  {
   "cell_type": "code",
   "execution_count": 27,
   "metadata": {},
   "outputs": [
    {
     "data": {
      "text/plain": [
       "['title',\n",
       " 'Associate Professor of Biostatistics',\n",
       " 'Professor of Biostatistics',\n",
       " 'Assistant Professor of Biostatistics',\n",
       " 'Associate Professor of Biostatistics',\n",
       " 'Professor of Biostatistics',\n",
       " 'Professor of Biostatistics',\n",
       " 'Assistant Professor of Biostatistics',\n",
       " 'Associate Professor of Biostatistics',\n",
       " 'Professor of Biostatistics',\n",
       " 'Professor of Biostatistics',\n",
       " 'Assistant Professor of Biostatistics',\n",
       " 'Associate Professor of Biostatistics',\n",
       " 'Associate Professor of Biostatistics',\n",
       " 'Professor of Biostatistics',\n",
       " 'Professor of Biostatistics',\n",
       " 'Assistant Professor of Biostatistics',\n",
       " 'Associate Professor of Biostatistics',\n",
       " 'Professor of Biostatistics',\n",
       " 'Associate Professor of Biostatistics',\n",
       " 'Associate Professor of Biostatistics',\n",
       " 'Associate Professor of Biostatistics',\n",
       " 'Professor of Biostatistics',\n",
       " 'Professor of Biostatistics',\n",
       " 'Associate Professor of Biostatistics',\n",
       " 'Assistant Professor is Biostatistics',\n",
       " 'Associate Professor of Biostatistics',\n",
       " 'Professor of Biostatistics',\n",
       " 'Assistant Professor of Biostatistics',\n",
       " 'Assistant Professor of Biostatistics',\n",
       " 'Assistant Professor of Biostatistics',\n",
       " 'Professor of Biostatistics',\n",
       " 'Assistant Professor of Biostatistics',\n",
       " 'Professor of Biostatistics',\n",
       " 'Assistant Professor of Biostatistics',\n",
       " 'Associate Professor of Biostatistics',\n",
       " 'Assistant Professor of Biostatistics',\n",
       " 'Assistant Professor of Biostatistics']"
      ]
     },
     "execution_count": 27,
     "metadata": {},
     "output_type": "execute_result"
    }
   ],
   "source": [
    "titles"
   ]
  },
  {
   "cell_type": "code",
   "execution_count": 37,
   "metadata": {},
   "outputs": [],
   "source": [
    "title_count = defaultdict(int)\n",
    "for title in titles[1:]:\n",
    "    title_count[title] += 1"
   ]
  },
  {
   "cell_type": "code",
   "execution_count": 38,
   "metadata": {},
   "outputs": [
    {
     "data": {
      "text/plain": [
       "defaultdict(int,\n",
       "            {'Associate Professor of Biostatistics': 12,\n",
       "             'Professor of Biostatistics': 13,\n",
       "             'Assistant Professor of Biostatistics': 11,\n",
       "             'Assistant Professor is Biostatistics': 1})"
      ]
     },
     "execution_count": 38,
     "metadata": {},
     "output_type": "execute_result"
    }
   ],
   "source": [
    "title_count"
   ]
  },
  {
   "cell_type": "markdown",
   "metadata": {},
   "source": [
    "Need to replace 'is' with 'of'. Use Regex."
   ]
  },
  {
   "cell_type": "code",
   "execution_count": 16,
   "metadata": {},
   "outputs": [
    {
     "data": {
      "text/plain": [
       "<re.Match object; span=(20, 22), match='is'>"
      ]
     },
     "execution_count": 16,
     "metadata": {},
     "output_type": "execute_result"
    }
   ],
   "source": [
    "title = 'Assistant Professor is Biostatistics'\n",
    "re.search(r'\\bis\\b', title)"
   ]
  },
  {
   "cell_type": "code",
   "execution_count": 17,
   "metadata": {},
   "outputs": [
    {
     "data": {
      "text/plain": [
       "'Assistant Professor of Biostatistics'"
      ]
     },
     "execution_count": 17,
     "metadata": {},
     "output_type": "execute_result"
    }
   ],
   "source": [
    "re.sub(r'\\bis\\b', 'of', title)"
   ]
  },
  {
   "cell_type": "markdown",
   "metadata": {},
   "source": [
    "Add to loop when creating list"
   ]
  },
  {
   "cell_type": "code",
   "execution_count": 47,
   "metadata": {},
   "outputs": [],
   "source": [
    "titles = []\n",
    "for row in data:\n",
    "    title = row[2].strip()\n",
    "    title = re.sub(r'\\bis\\b', 'of', title)\n",
    "    titles.append(title)"
   ]
  },
  {
   "cell_type": "code",
   "execution_count": 48,
   "metadata": {},
   "outputs": [
    {
     "data": {
      "text/plain": [
       "['title',\n",
       " 'Associate Professor of Biostatistics',\n",
       " 'Professor of Biostatistics',\n",
       " 'Assistant Professor of Biostatistics',\n",
       " 'Associate Professor of Biostatistics',\n",
       " 'Professor of Biostatistics',\n",
       " 'Professor of Biostatistics',\n",
       " 'Assistant Professor of Biostatistics',\n",
       " 'Associate Professor of Biostatistics',\n",
       " 'Professor of Biostatistics',\n",
       " 'Professor of Biostatistics',\n",
       " 'Assistant Professor of Biostatistics',\n",
       " 'Associate Professor of Biostatistics',\n",
       " 'Associate Professor of Biostatistics',\n",
       " 'Professor of Biostatistics',\n",
       " 'Professor of Biostatistics',\n",
       " 'Assistant Professor of Biostatistics',\n",
       " 'Associate Professor of Biostatistics',\n",
       " 'Professor of Biostatistics',\n",
       " 'Associate Professor of Biostatistics',\n",
       " 'Associate Professor of Biostatistics',\n",
       " 'Associate Professor of Biostatistics',\n",
       " 'Professor of Biostatistics',\n",
       " 'Professor of Biostatistics',\n",
       " 'Associate Professor of Biostatistics',\n",
       " 'Assistant Professor of Biostatistics',\n",
       " 'Associate Professor of Biostatistics',\n",
       " 'Professor of Biostatistics',\n",
       " 'Assistant Professor of Biostatistics',\n",
       " 'Assistant Professor of Biostatistics',\n",
       " 'Assistant Professor of Biostatistics',\n",
       " 'Professor of Biostatistics',\n",
       " 'Assistant Professor of Biostatistics',\n",
       " 'Professor of Biostatistics',\n",
       " 'Assistant Professor of Biostatistics',\n",
       " 'Associate Professor of Biostatistics',\n",
       " 'Assistant Professor of Biostatistics',\n",
       " 'Assistant Professor of Biostatistics']"
      ]
     },
     "execution_count": 48,
     "metadata": {},
     "output_type": "execute_result"
    }
   ],
   "source": [
    "titles"
   ]
  },
  {
   "cell_type": "code",
   "execution_count": 49,
   "metadata": {},
   "outputs": [],
   "source": [
    "title_count = defaultdict(int)\n",
    "for title in titles[1:]:\n",
    "    title_count[title] += 1"
   ]
  },
  {
   "cell_type": "code",
   "execution_count": 50,
   "metadata": {},
   "outputs": [
    {
     "data": {
      "text/plain": [
       "defaultdict(int,\n",
       "            {'Associate Professor of Biostatistics': 12,\n",
       "             'Professor of Biostatistics': 13,\n",
       "             'Assistant Professor of Biostatistics': 12})"
      ]
     },
     "execution_count": 50,
     "metadata": {},
     "output_type": "execute_result"
    }
   ],
   "source": [
    "title_count"
   ]
  },
  {
   "cell_type": "markdown",
   "metadata": {},
   "source": [
    "# Problem 4"
   ]
  },
  {
   "cell_type": "code",
   "execution_count": 63,
   "metadata": {},
   "outputs": [],
   "source": [
    "import csv\n",
    "import re\n",
    "from collections import defaultdict\n",
    "\n",
    "csv_file_name = 'faculty.csv'\n",
    "f = open(csv_file_name)\n",
    "data = csv.reader(f)"
   ]
  },
  {
   "cell_type": "code",
   "execution_count": 64,
   "metadata": {},
   "outputs": [],
   "source": [
    "emails = []\n",
    "for row in data:\n",
    "    email = row[3].strip()\n",
    "    emails.append(email)"
   ]
  },
  {
   "cell_type": "code",
   "execution_count": 65,
   "metadata": {
    "collapsed": true
   },
   "outputs": [
    {
     "data": {
      "text/plain": [
       "['bellamys@mail.med.upenn.edu',\n",
       " 'warren@upenn.edu',\n",
       " 'bryanma@upenn.edu',\n",
       " 'jinboche@upenn.edu',\n",
       " 'sellenbe@upenn.edu',\n",
       " 'jellenbe@mail.med.upenn.edu',\n",
       " 'ruifeng@upenn.edu',\n",
       " 'bcfrench@mail.med.upenn.edu',\n",
       " 'pgimotty@upenn.edu',\n",
       " 'wguo@mail.med.upenn.edu',\n",
       " 'hsu9@mail.med.upenn.edu',\n",
       " 'rhubb@mail.med.upenn.edu',\n",
       " 'whwang@mail.med.upenn.edu',\n",
       " 'mjoffe@mail.med.upenn.edu',\n",
       " 'jrlandis@mail.med.upenn.edu',\n",
       " 'liy3@email.chop.edu',\n",
       " 'mingyao@mail.med.upenn.edu',\n",
       " 'hongzhe@upenn.edu',\n",
       " 'rlocalio@upenn.edu',\n",
       " 'nanditam@mail.med.upenn.edu',\n",
       " 'knashawn@mail.med.upenn.edu',\n",
       " 'propert@mail.med.upenn.edu',\n",
       " 'mputt@mail.med.upenn.edu',\n",
       " 'sratclif@upenn.edu',\n",
       " 'michross@upenn.edu',\n",
       " 'jaroy@mail.med.upenn.edu',\n",
       " 'msammel@cceb.med.upenn.edu',\n",
       " 'shawp@upenn.edu',\n",
       " 'rshi@mail.med.upenn.edu',\n",
       " 'hshou@mail.med.upenn.edu',\n",
       " 'jshults@mail.med.upenn.edu',\n",
       " 'alisaste@mail.med.upenn.edu',\n",
       " 'atroxel@mail.med.upenn.edu',\n",
       " 'rxiao@mail.med.upenn.edu',\n",
       " 'sxie@mail.med.upenn.edu',\n",
       " 'dxie@upenn.edu',\n",
       " 'weiyang@mail.med.upenn.edu']"
      ]
     },
     "execution_count": 65,
     "metadata": {},
     "output_type": "execute_result"
    }
   ],
   "source": [
    "emails[1:]"
   ]
  },
  {
   "cell_type": "markdown",
   "metadata": {},
   "source": [
    "REGEX match for domain"
   ]
  },
  {
   "cell_type": "code",
   "execution_count": 71,
   "metadata": {},
   "outputs": [
    {
     "data": {
      "text/plain": [
       "<re.Match object; span=(6, 16), match='@upenn.edu'>"
      ]
     },
     "execution_count": 71,
     "metadata": {},
     "output_type": "execute_result"
    }
   ],
   "source": [
    "email = 'warren@upenn.edu'\n",
    "domain = re.search(\"@[\\w.]+\", email)\n",
    "domain"
   ]
  },
  {
   "cell_type": "markdown",
   "metadata": {},
   "source": [
    "To get just the substring, use this:"
   ]
  },
  {
   "cell_type": "code",
   "execution_count": 73,
   "metadata": {},
   "outputs": [
    {
     "data": {
      "text/plain": [
       "'@upenn.edu'"
      ]
     },
     "execution_count": 73,
     "metadata": {},
     "output_type": "execute_result"
    }
   ],
   "source": [
    "domain.group()"
   ]
  },
  {
   "cell_type": "markdown",
   "metadata": {},
   "source": [
    "Loop through the list of emails and create list of domains"
   ]
  },
  {
   "cell_type": "code",
   "execution_count": 79,
   "metadata": {},
   "outputs": [],
   "source": [
    "domains = []\n",
    "for email in emails[1:]:\n",
    "    domain = re.search(\"@[\\w.]+\", email)\n",
    "    domains.append(domain.group())"
   ]
  },
  {
   "cell_type": "code",
   "execution_count": 80,
   "metadata": {},
   "outputs": [
    {
     "data": {
      "text/plain": [
       "['@mail.med.upenn.edu',\n",
       " '@upenn.edu',\n",
       " '@upenn.edu',\n",
       " '@upenn.edu',\n",
       " '@upenn.edu',\n",
       " '@mail.med.upenn.edu',\n",
       " '@upenn.edu',\n",
       " '@mail.med.upenn.edu',\n",
       " '@upenn.edu',\n",
       " '@mail.med.upenn.edu',\n",
       " '@mail.med.upenn.edu',\n",
       " '@mail.med.upenn.edu',\n",
       " '@mail.med.upenn.edu',\n",
       " '@mail.med.upenn.edu',\n",
       " '@mail.med.upenn.edu',\n",
       " '@email.chop.edu',\n",
       " '@mail.med.upenn.edu',\n",
       " '@upenn.edu',\n",
       " '@upenn.edu',\n",
       " '@mail.med.upenn.edu',\n",
       " '@mail.med.upenn.edu',\n",
       " '@mail.med.upenn.edu',\n",
       " '@mail.med.upenn.edu',\n",
       " '@upenn.edu',\n",
       " '@upenn.edu',\n",
       " '@mail.med.upenn.edu',\n",
       " '@cceb.med.upenn.edu',\n",
       " '@upenn.edu',\n",
       " '@mail.med.upenn.edu',\n",
       " '@mail.med.upenn.edu',\n",
       " '@mail.med.upenn.edu',\n",
       " '@mail.med.upenn.edu',\n",
       " '@mail.med.upenn.edu',\n",
       " '@mail.med.upenn.edu',\n",
       " '@mail.med.upenn.edu',\n",
       " '@upenn.edu',\n",
       " '@mail.med.upenn.edu']"
      ]
     },
     "execution_count": 80,
     "metadata": {},
     "output_type": "execute_result"
    }
   ],
   "source": [
    "domains"
   ]
  },
  {
   "cell_type": "markdown",
   "metadata": {},
   "source": [
    "Create a set from the list"
   ]
  },
  {
   "cell_type": "code",
   "execution_count": 76,
   "metadata": {},
   "outputs": [
    {
     "data": {
      "text/plain": [
       "{'@cceb.med.upenn.edu', '@email.chop.edu', '@mail.med.upenn.edu', '@upenn.edu'}"
      ]
     },
     "execution_count": 76,
     "metadata": {},
     "output_type": "execute_result"
    }
   ],
   "source": [
    "domain_set = set(domains)\n",
    "domain_set"
   ]
  },
  {
   "cell_type": "markdown",
   "metadata": {},
   "source": [
    "### Don't include '@'"
   ]
  },
  {
   "cell_type": "code",
   "execution_count": 84,
   "metadata": {},
   "outputs": [],
   "source": [
    "domains = []\n",
    "for email in emails[1:]:\n",
    "    domain = email[email.find('@')+1:]\n",
    "    domains.append(domain)"
   ]
  },
  {
   "cell_type": "code",
   "execution_count": 85,
   "metadata": {},
   "outputs": [
    {
     "data": {
      "text/plain": [
       "['mail.med.upenn.edu',\n",
       " 'upenn.edu',\n",
       " 'upenn.edu',\n",
       " 'upenn.edu',\n",
       " 'upenn.edu',\n",
       " 'mail.med.upenn.edu',\n",
       " 'upenn.edu',\n",
       " 'mail.med.upenn.edu',\n",
       " 'upenn.edu',\n",
       " 'mail.med.upenn.edu',\n",
       " 'mail.med.upenn.edu',\n",
       " 'mail.med.upenn.edu',\n",
       " 'mail.med.upenn.edu',\n",
       " 'mail.med.upenn.edu',\n",
       " 'mail.med.upenn.edu',\n",
       " 'email.chop.edu',\n",
       " 'mail.med.upenn.edu',\n",
       " 'upenn.edu',\n",
       " 'upenn.edu',\n",
       " 'mail.med.upenn.edu',\n",
       " 'mail.med.upenn.edu',\n",
       " 'mail.med.upenn.edu',\n",
       " 'mail.med.upenn.edu',\n",
       " 'upenn.edu',\n",
       " 'upenn.edu',\n",
       " 'mail.med.upenn.edu',\n",
       " 'cceb.med.upenn.edu',\n",
       " 'upenn.edu',\n",
       " 'mail.med.upenn.edu',\n",
       " 'mail.med.upenn.edu',\n",
       " 'mail.med.upenn.edu',\n",
       " 'mail.med.upenn.edu',\n",
       " 'mail.med.upenn.edu',\n",
       " 'mail.med.upenn.edu',\n",
       " 'mail.med.upenn.edu',\n",
       " 'upenn.edu',\n",
       " 'mail.med.upenn.edu']"
      ]
     },
     "execution_count": 85,
     "metadata": {},
     "output_type": "execute_result"
    }
   ],
   "source": [
    "domains"
   ]
  },
  {
   "cell_type": "markdown",
   "metadata": {},
   "source": [
    "# Problem 5"
   ]
  },
  {
   "cell_type": "code",
   "execution_count": 9,
   "metadata": {},
   "outputs": [],
   "source": [
    "import csv\n",
    "from collections import deque"
   ]
  },
  {
   "cell_type": "code",
   "execution_count": 7,
   "metadata": {},
   "outputs": [],
   "source": [
    "with open('emails.csv', 'w') as outfile:\n",
    "    emails = csv.writer(outfile)\n",
    "    header = 'list_of_emails'\n",
    "    emails.writerow(header)"
   ]
  },
  {
   "cell_type": "code",
   "execution_count": 8,
   "metadata": {},
   "outputs": [],
   "source": [
    "list_of_emails = ['nanditam@mail.med.upenn.edu', 'knashawn@mail.med.upenn.edu', 'propert@mail.med.upenn.edu', 'mputt@mail.med.upenn.edu', 'sratclif@upenn.edu', 'michross@upenn.edu', 'jaroy@mail.med.upenn.edu', 'msammel@cceb.med.upenn.edu']"
   ]
  },
  {
   "cell_type": "code",
   "execution_count": 10,
   "metadata": {},
   "outputs": [],
   "source": [
    "d_emails = deque(list_of_emails)"
   ]
  },
  {
   "cell_type": "code",
   "execution_count": 12,
   "metadata": {},
   "outputs": [],
   "source": [
    "d_emails.appendleft('list_of_emails')"
   ]
  },
  {
   "cell_type": "code",
   "execution_count": 13,
   "metadata": {},
   "outputs": [
    {
     "data": {
      "text/plain": [
       "deque(['list_of_emails',\n",
       "       'nanditam@mail.med.upenn.edu',\n",
       "       'knashawn@mail.med.upenn.edu',\n",
       "       'propert@mail.med.upenn.edu',\n",
       "       'mputt@mail.med.upenn.edu',\n",
       "       'sratclif@upenn.edu',\n",
       "       'michross@upenn.edu',\n",
       "       'jaroy@mail.med.upenn.edu',\n",
       "       'msammel@cceb.med.upenn.edu'])"
      ]
     },
     "execution_count": 13,
     "metadata": {},
     "output_type": "execute_result"
    }
   ],
   "source": [
    "d_emails"
   ]
  },
  {
   "cell_type": "code",
   "execution_count": 19,
   "metadata": {},
   "outputs": [],
   "source": [
    "with open('emails.csv', 'w') as outfile:\n",
    "    emails = csv.writer(outfile)\n",
    "    for email in d_emails:\n",
    "        emails.writerow([email,])"
   ]
  },
  {
   "cell_type": "markdown",
   "metadata": {},
   "source": [
    "# Problem 6"
   ]
  },
  {
   "cell_type": "code",
   "execution_count": 88,
   "metadata": {},
   "outputs": [],
   "source": [
    "import csv\n",
    "from collections import deque"
   ]
  },
  {
   "cell_type": "code",
   "execution_count": 89,
   "metadata": {},
   "outputs": [],
   "source": [
    "with open('faculty.csv', 'r') as f:\n",
    "    faculty = csv.reader(f)\n",
    "    names = []\n",
    "    info = []\n",
    "    for row in faculty:\n",
    "        name = row[0]\n",
    "        other = row[1:]\n",
    "        names.append(name)\n",
    "        info.append(other)"
   ]
  },
  {
   "cell_type": "code",
   "execution_count": 90,
   "metadata": {
    "scrolled": true
   },
   "outputs": [
    {
     "data": {
      "text/plain": [
       "['name',\n",
       " 'Scarlett L. Bellamy',\n",
       " 'Warren B. Bilker',\n",
       " 'Matthew W Bryan',\n",
       " 'Jinbo Chen',\n",
       " 'Susan S Ellenberg',\n",
       " 'Jonas H. Ellenberg',\n",
       " 'Rui Feng',\n",
       " 'Benjamin C. French',\n",
       " 'Phyllis A. Gimotty',\n",
       " 'Wensheng Guo',\n",
       " 'Yenchih Hsu',\n",
       " 'Rebecca A Hubbard',\n",
       " 'Wei-Ting Hwang',\n",
       " 'Marshall M. Joffe',\n",
       " 'J. Richard Landis',\n",
       " 'Yimei Li',\n",
       " 'Mingyao Li',\n",
       " 'Hongzhe Li',\n",
       " 'A. Russell Localio',\n",
       " 'Nandita Mitra',\n",
       " 'Knashawn H. Morales',\n",
       " 'Kathleen Joy Propert',\n",
       " 'Mary E. Putt',\n",
       " 'Sarah Jane Ratcliffe',\n",
       " 'Michelle Elana Ross',\n",
       " 'Jason A. Roy',\n",
       " 'Mary D. Sammel',\n",
       " 'Pamela Ann Shaw',\n",
       " 'Russell Takeshi Shinohara',\n",
       " 'Haochang Shou',\n",
       " 'Justine Shults',\n",
       " 'Alisa Jane Stephens',\n",
       " 'Andrea Beth Troxel',\n",
       " 'Rui Xiao',\n",
       " 'Sharon Xiangwen Xie',\n",
       " 'Dawei Xie',\n",
       " 'Wei (Peter) Yang']"
      ]
     },
     "execution_count": 90,
     "metadata": {},
     "output_type": "execute_result"
    }
   ],
   "source": [
    "names"
   ]
  },
  {
   "cell_type": "code",
   "execution_count": 91,
   "metadata": {},
   "outputs": [
    {
     "data": {
      "text/plain": [
       "[[' degree', ' title', ' email'],\n",
       " [' Sc.D.',\n",
       "  'Associate Professor of Biostatistics',\n",
       "  'bellamys@mail.med.upenn.edu'],\n",
       " ['Ph.D.', 'Professor of Biostatistics', 'warren@upenn.edu'],\n",
       " [' PhD', 'Assistant Professor of Biostatistics', 'bryanma@upenn.edu'],\n",
       " [' Ph.D.', 'Associate Professor of Biostatistics', 'jinboche@upenn.edu'],\n",
       " [' Ph.D.', 'Professor of Biostatistics', 'sellenbe@upenn.edu'],\n",
       " [' Ph.D.', 'Professor of Biostatistics', 'jellenbe@mail.med.upenn.edu'],\n",
       " [' Ph.D', 'Assistant Professor of Biostatistics', 'ruifeng@upenn.edu'],\n",
       " [' PhD',\n",
       "  'Associate Professor of Biostatistics',\n",
       "  'bcfrench@mail.med.upenn.edu'],\n",
       " [' Ph.D', 'Professor of Biostatistics', 'pgimotty@upenn.edu'],\n",
       " [' Ph.D', 'Professor of Biostatistics', 'wguo@mail.med.upenn.edu'],\n",
       " [' Ph.D.', 'Assistant Professor of Biostatistics', 'hsu9@mail.med.upenn.edu'],\n",
       " [' PhD', 'Associate Professor of Biostatistics', 'rhubb@mail.med.upenn.edu'],\n",
       " [' Ph.D.',\n",
       "  'Associate Professor of Biostatistics',\n",
       "  'whwang@mail.med.upenn.edu'],\n",
       " [' MD MPH Ph.D', 'Professor of Biostatistics', 'mjoffe@mail.med.upenn.edu'],\n",
       " [' B.S.Ed. M.S. Ph.D.',\n",
       "  'Professor of Biostatistics',\n",
       "  'jrlandis@mail.med.upenn.edu'],\n",
       " [' Ph.D.', 'Assistant Professor of Biostatistics', 'liy3@email.chop.edu'],\n",
       " [' Ph.D.',\n",
       "  'Associate Professor of Biostatistics',\n",
       "  'mingyao@mail.med.upenn.edu'],\n",
       " [' Ph.D', 'Professor of Biostatistics', 'hongzhe@upenn.edu'],\n",
       " [' JD MA MPH MS PhD',\n",
       "  'Associate Professor of Biostatistics',\n",
       "  'rlocalio@upenn.edu'],\n",
       " [' Ph.D.',\n",
       "  'Associate Professor of Biostatistics',\n",
       "  'nanditam@mail.med.upenn.edu'],\n",
       " [' Sc.D.',\n",
       "  'Associate Professor of Biostatistics',\n",
       "  'knashawn@mail.med.upenn.edu'],\n",
       " [' Sc.D.', 'Professor of Biostatistics', 'propert@mail.med.upenn.edu'],\n",
       " [' PhD ScD', 'Professor of Biostatistics', 'mputt@mail.med.upenn.edu'],\n",
       " [' Ph.D.', 'Associate Professor of Biostatistics', 'sratclif@upenn.edu'],\n",
       " [' PhD', 'Assistant Professor is Biostatistics', 'michross@upenn.edu'],\n",
       " [' Ph.D.',\n",
       "  'Associate Professor of Biostatistics',\n",
       "  'jaroy@mail.med.upenn.edu'],\n",
       " [' Sc.D.', 'Professor of Biostatistics', 'msammel@cceb.med.upenn.edu'],\n",
       " [' PhD', 'Assistant Professor of Biostatistics', 'shawp@upenn.edu'],\n",
       " ['0', 'Assistant Professor of Biostatistics', 'rshi@mail.med.upenn.edu'],\n",
       " [' Ph.D.',\n",
       "  'Assistant Professor of Biostatistics',\n",
       "  'hshou@mail.med.upenn.edu'],\n",
       " [' Ph.D.', 'Professor of Biostatistics', 'jshults@mail.med.upenn.edu'],\n",
       " [' Ph.D.',\n",
       "  'Assistant Professor of Biostatistics',\n",
       "  'alisaste@mail.med.upenn.edu'],\n",
       " [' ScD', 'Professor of Biostatistics', 'atroxel@mail.med.upenn.edu'],\n",
       " [' PhD', 'Assistant Professor of Biostatistics', 'rxiao@mail.med.upenn.edu'],\n",
       " [' Ph.D.', 'Associate Professor of Biostatistics', 'sxie@mail.med.upenn.edu'],\n",
       " [' PhD', 'Assistant Professor of Biostatistics', 'dxie@upenn.edu'],\n",
       " [' Ph.D.',\n",
       "  'Assistant Professor of Biostatistics',\n",
       "  'weiyang@mail.med.upenn.edu']]"
      ]
     },
     "execution_count": 91,
     "metadata": {},
     "output_type": "execute_result"
    }
   ],
   "source": [
    "info"
   ]
  },
  {
   "cell_type": "markdown",
   "metadata": {},
   "source": [
    "Extract last names"
   ]
  },
  {
   "cell_type": "code",
   "execution_count": 92,
   "metadata": {},
   "outputs": [],
   "source": [
    "last_names = []\n",
    "for name in names:\n",
    "    last_name = name.split()[-1]\n",
    "    last_names.append(last_name)"
   ]
  },
  {
   "cell_type": "code",
   "execution_count": 93,
   "metadata": {},
   "outputs": [],
   "source": [
    "with open('faculty.csv', 'r') as f:\n",
    "    faculty = csv.reader(f)\n",
    "    rows = []\n",
    "    for row in faculty:\n",
    "        rows.append(row)"
   ]
  },
  {
   "cell_type": "code",
   "execution_count": 94,
   "metadata": {},
   "outputs": [
    {
     "data": {
      "text/plain": [
       "[['name', ' degree', ' title', ' email'],\n",
       " ['Scarlett L. Bellamy',\n",
       "  ' Sc.D.',\n",
       "  'Associate Professor of Biostatistics',\n",
       "  'bellamys@mail.med.upenn.edu'],\n",
       " ['Warren B. Bilker',\n",
       "  'Ph.D.',\n",
       "  'Professor of Biostatistics',\n",
       "  'warren@upenn.edu'],\n",
       " ['Matthew W Bryan',\n",
       "  ' PhD',\n",
       "  'Assistant Professor of Biostatistics',\n",
       "  'bryanma@upenn.edu'],\n",
       " ['Jinbo Chen',\n",
       "  ' Ph.D.',\n",
       "  'Associate Professor of Biostatistics',\n",
       "  'jinboche@upenn.edu'],\n",
       " ['Susan S Ellenberg',\n",
       "  ' Ph.D.',\n",
       "  'Professor of Biostatistics',\n",
       "  'sellenbe@upenn.edu'],\n",
       " ['Jonas H. Ellenberg',\n",
       "  ' Ph.D.',\n",
       "  'Professor of Biostatistics',\n",
       "  'jellenbe@mail.med.upenn.edu'],\n",
       " ['Rui Feng',\n",
       "  ' Ph.D',\n",
       "  'Assistant Professor of Biostatistics',\n",
       "  'ruifeng@upenn.edu'],\n",
       " ['Benjamin C. French',\n",
       "  ' PhD',\n",
       "  'Associate Professor of Biostatistics',\n",
       "  'bcfrench@mail.med.upenn.edu'],\n",
       " ['Phyllis A. Gimotty',\n",
       "  ' Ph.D',\n",
       "  'Professor of Biostatistics',\n",
       "  'pgimotty@upenn.edu'],\n",
       " ['Wensheng Guo',\n",
       "  ' Ph.D',\n",
       "  'Professor of Biostatistics',\n",
       "  'wguo@mail.med.upenn.edu'],\n",
       " ['Yenchih Hsu',\n",
       "  ' Ph.D.',\n",
       "  'Assistant Professor of Biostatistics',\n",
       "  'hsu9@mail.med.upenn.edu'],\n",
       " ['Rebecca A Hubbard',\n",
       "  ' PhD',\n",
       "  'Associate Professor of Biostatistics',\n",
       "  'rhubb@mail.med.upenn.edu'],\n",
       " ['Wei-Ting Hwang',\n",
       "  ' Ph.D.',\n",
       "  'Associate Professor of Biostatistics',\n",
       "  'whwang@mail.med.upenn.edu'],\n",
       " ['Marshall M. Joffe',\n",
       "  ' MD MPH Ph.D',\n",
       "  'Professor of Biostatistics',\n",
       "  'mjoffe@mail.med.upenn.edu'],\n",
       " ['J. Richard Landis',\n",
       "  ' B.S.Ed. M.S. Ph.D.',\n",
       "  'Professor of Biostatistics',\n",
       "  'jrlandis@mail.med.upenn.edu'],\n",
       " ['Yimei Li',\n",
       "  ' Ph.D.',\n",
       "  'Assistant Professor of Biostatistics',\n",
       "  'liy3@email.chop.edu'],\n",
       " ['Mingyao Li',\n",
       "  ' Ph.D.',\n",
       "  'Associate Professor of Biostatistics',\n",
       "  'mingyao@mail.med.upenn.edu'],\n",
       " ['Hongzhe Li', ' Ph.D', 'Professor of Biostatistics', 'hongzhe@upenn.edu'],\n",
       " ['A. Russell Localio',\n",
       "  ' JD MA MPH MS PhD',\n",
       "  'Associate Professor of Biostatistics',\n",
       "  'rlocalio@upenn.edu'],\n",
       " ['Nandita Mitra',\n",
       "  ' Ph.D.',\n",
       "  'Associate Professor of Biostatistics',\n",
       "  'nanditam@mail.med.upenn.edu'],\n",
       " ['Knashawn H. Morales',\n",
       "  ' Sc.D.',\n",
       "  'Associate Professor of Biostatistics',\n",
       "  'knashawn@mail.med.upenn.edu'],\n",
       " ['Kathleen Joy Propert',\n",
       "  ' Sc.D.',\n",
       "  'Professor of Biostatistics',\n",
       "  'propert@mail.med.upenn.edu'],\n",
       " ['Mary E. Putt',\n",
       "  ' PhD ScD',\n",
       "  'Professor of Biostatistics',\n",
       "  'mputt@mail.med.upenn.edu'],\n",
       " ['Sarah Jane Ratcliffe',\n",
       "  ' Ph.D.',\n",
       "  'Associate Professor of Biostatistics',\n",
       "  'sratclif@upenn.edu'],\n",
       " ['Michelle Elana Ross',\n",
       "  ' PhD',\n",
       "  'Assistant Professor is Biostatistics',\n",
       "  'michross@upenn.edu'],\n",
       " ['Jason A. Roy',\n",
       "  ' Ph.D.',\n",
       "  'Associate Professor of Biostatistics',\n",
       "  'jaroy@mail.med.upenn.edu'],\n",
       " ['Mary D. Sammel',\n",
       "  ' Sc.D.',\n",
       "  'Professor of Biostatistics',\n",
       "  'msammel@cceb.med.upenn.edu'],\n",
       " ['Pamela Ann Shaw',\n",
       "  ' PhD',\n",
       "  'Assistant Professor of Biostatistics',\n",
       "  'shawp@upenn.edu'],\n",
       " ['Russell Takeshi Shinohara',\n",
       "  '0',\n",
       "  'Assistant Professor of Biostatistics',\n",
       "  'rshi@mail.med.upenn.edu'],\n",
       " ['Haochang Shou',\n",
       "  ' Ph.D.',\n",
       "  'Assistant Professor of Biostatistics',\n",
       "  'hshou@mail.med.upenn.edu'],\n",
       " ['Justine Shults',\n",
       "  ' Ph.D.',\n",
       "  'Professor of Biostatistics',\n",
       "  'jshults@mail.med.upenn.edu'],\n",
       " ['Alisa Jane Stephens',\n",
       "  ' Ph.D.',\n",
       "  'Assistant Professor of Biostatistics',\n",
       "  'alisaste@mail.med.upenn.edu'],\n",
       " ['Andrea Beth Troxel',\n",
       "  ' ScD',\n",
       "  'Professor of Biostatistics',\n",
       "  'atroxel@mail.med.upenn.edu'],\n",
       " ['Rui Xiao',\n",
       "  ' PhD',\n",
       "  'Assistant Professor of Biostatistics',\n",
       "  'rxiao@mail.med.upenn.edu'],\n",
       " ['Sharon Xiangwen Xie',\n",
       "  ' Ph.D.',\n",
       "  'Associate Professor of Biostatistics',\n",
       "  'sxie@mail.med.upenn.edu'],\n",
       " ['Dawei Xie',\n",
       "  ' PhD',\n",
       "  'Assistant Professor of Biostatistics',\n",
       "  'dxie@upenn.edu'],\n",
       " ['Wei (Peter) Yang',\n",
       "  ' Ph.D.',\n",
       "  'Assistant Professor of Biostatistics',\n",
       "  'weiyang@mail.med.upenn.edu']]"
      ]
     },
     "execution_count": 94,
     "metadata": {},
     "output_type": "execute_result"
    }
   ],
   "source": [
    "rows"
   ]
  },
  {
   "cell_type": "code",
   "execution_count": 101,
   "metadata": {},
   "outputs": [],
   "source": [
    "d_rows = deque(rows)"
   ]
  },
  {
   "cell_type": "code",
   "execution_count": 104,
   "metadata": {
    "scrolled": true
   },
   "outputs": [],
   "source": [
    "new_rows = []\n",
    "for row in rows:\n",
    "    d_row = deque(row)\n",
    "    last_name = d_row[0].split()[-1]\n",
    "    d_row.popleft()\n",
    "    d_row.appendleft(last_name)\n",
    "    new_row = list(d_row)\n",
    "    new_rows.append(new_row)"
   ]
  },
  {
   "cell_type": "code",
   "execution_count": 105,
   "metadata": {},
   "outputs": [
    {
     "data": {
      "text/plain": [
       "[['name', ' degree', ' title', ' email'],\n",
       " ['Bellamy',\n",
       "  ' Sc.D.',\n",
       "  'Associate Professor of Biostatistics',\n",
       "  'bellamys@mail.med.upenn.edu'],\n",
       " ['Bilker', 'Ph.D.', 'Professor of Biostatistics', 'warren@upenn.edu'],\n",
       " ['Bryan',\n",
       "  ' PhD',\n",
       "  'Assistant Professor of Biostatistics',\n",
       "  'bryanma@upenn.edu'],\n",
       " ['Chen',\n",
       "  ' Ph.D.',\n",
       "  'Associate Professor of Biostatistics',\n",
       "  'jinboche@upenn.edu'],\n",
       " ['Ellenberg', ' Ph.D.', 'Professor of Biostatistics', 'sellenbe@upenn.edu'],\n",
       " ['Ellenberg',\n",
       "  ' Ph.D.',\n",
       "  'Professor of Biostatistics',\n",
       "  'jellenbe@mail.med.upenn.edu'],\n",
       " ['Feng',\n",
       "  ' Ph.D',\n",
       "  'Assistant Professor of Biostatistics',\n",
       "  'ruifeng@upenn.edu'],\n",
       " ['French',\n",
       "  ' PhD',\n",
       "  'Associate Professor of Biostatistics',\n",
       "  'bcfrench@mail.med.upenn.edu'],\n",
       " ['Gimotty', ' Ph.D', 'Professor of Biostatistics', 'pgimotty@upenn.edu'],\n",
       " ['Guo', ' Ph.D', 'Professor of Biostatistics', 'wguo@mail.med.upenn.edu'],\n",
       " ['Hsu',\n",
       "  ' Ph.D.',\n",
       "  'Assistant Professor of Biostatistics',\n",
       "  'hsu9@mail.med.upenn.edu'],\n",
       " ['Hubbard',\n",
       "  ' PhD',\n",
       "  'Associate Professor of Biostatistics',\n",
       "  'rhubb@mail.med.upenn.edu'],\n",
       " ['Hwang',\n",
       "  ' Ph.D.',\n",
       "  'Associate Professor of Biostatistics',\n",
       "  'whwang@mail.med.upenn.edu'],\n",
       " ['Joffe',\n",
       "  ' MD MPH Ph.D',\n",
       "  'Professor of Biostatistics',\n",
       "  'mjoffe@mail.med.upenn.edu'],\n",
       " ['Landis',\n",
       "  ' B.S.Ed. M.S. Ph.D.',\n",
       "  'Professor of Biostatistics',\n",
       "  'jrlandis@mail.med.upenn.edu'],\n",
       " ['Li',\n",
       "  ' Ph.D.',\n",
       "  'Assistant Professor of Biostatistics',\n",
       "  'liy3@email.chop.edu'],\n",
       " ['Li',\n",
       "  ' Ph.D.',\n",
       "  'Associate Professor of Biostatistics',\n",
       "  'mingyao@mail.med.upenn.edu'],\n",
       " ['Li', ' Ph.D', 'Professor of Biostatistics', 'hongzhe@upenn.edu'],\n",
       " ['Localio',\n",
       "  ' JD MA MPH MS PhD',\n",
       "  'Associate Professor of Biostatistics',\n",
       "  'rlocalio@upenn.edu'],\n",
       " ['Mitra',\n",
       "  ' Ph.D.',\n",
       "  'Associate Professor of Biostatistics',\n",
       "  'nanditam@mail.med.upenn.edu'],\n",
       " ['Morales',\n",
       "  ' Sc.D.',\n",
       "  'Associate Professor of Biostatistics',\n",
       "  'knashawn@mail.med.upenn.edu'],\n",
       " ['Propert',\n",
       "  ' Sc.D.',\n",
       "  'Professor of Biostatistics',\n",
       "  'propert@mail.med.upenn.edu'],\n",
       " ['Putt',\n",
       "  ' PhD ScD',\n",
       "  'Professor of Biostatistics',\n",
       "  'mputt@mail.med.upenn.edu'],\n",
       " ['Ratcliffe',\n",
       "  ' Ph.D.',\n",
       "  'Associate Professor of Biostatistics',\n",
       "  'sratclif@upenn.edu'],\n",
       " ['Ross',\n",
       "  ' PhD',\n",
       "  'Assistant Professor is Biostatistics',\n",
       "  'michross@upenn.edu'],\n",
       " ['Roy',\n",
       "  ' Ph.D.',\n",
       "  'Associate Professor of Biostatistics',\n",
       "  'jaroy@mail.med.upenn.edu'],\n",
       " ['Sammel',\n",
       "  ' Sc.D.',\n",
       "  'Professor of Biostatistics',\n",
       "  'msammel@cceb.med.upenn.edu'],\n",
       " ['Shaw', ' PhD', 'Assistant Professor of Biostatistics', 'shawp@upenn.edu'],\n",
       " ['Shinohara',\n",
       "  '0',\n",
       "  'Assistant Professor of Biostatistics',\n",
       "  'rshi@mail.med.upenn.edu'],\n",
       " ['Shou',\n",
       "  ' Ph.D.',\n",
       "  'Assistant Professor of Biostatistics',\n",
       "  'hshou@mail.med.upenn.edu'],\n",
       " ['Shults',\n",
       "  ' Ph.D.',\n",
       "  'Professor of Biostatistics',\n",
       "  'jshults@mail.med.upenn.edu'],\n",
       " ['Stephens',\n",
       "  ' Ph.D.',\n",
       "  'Assistant Professor of Biostatistics',\n",
       "  'alisaste@mail.med.upenn.edu'],\n",
       " ['Troxel',\n",
       "  ' ScD',\n",
       "  'Professor of Biostatistics',\n",
       "  'atroxel@mail.med.upenn.edu'],\n",
       " ['Xiao',\n",
       "  ' PhD',\n",
       "  'Assistant Professor of Biostatistics',\n",
       "  'rxiao@mail.med.upenn.edu'],\n",
       " ['Xie',\n",
       "  ' Ph.D.',\n",
       "  'Associate Professor of Biostatistics',\n",
       "  'sxie@mail.med.upenn.edu'],\n",
       " ['Xie', ' PhD', 'Assistant Professor of Biostatistics', 'dxie@upenn.edu'],\n",
       " ['Yang',\n",
       "  ' Ph.D.',\n",
       "  'Assistant Professor of Biostatistics',\n",
       "  'weiyang@mail.med.upenn.edu']]"
      ]
     },
     "execution_count": 105,
     "metadata": {},
     "output_type": "execute_result"
    }
   ],
   "source": [
    "new_rows"
   ]
  }
 ],
 "metadata": {
  "kernelspec": {
   "display_name": "Python 3",
   "language": "python",
   "name": "python3"
  },
  "language_info": {
   "codemirror_mode": {
    "name": "ipython",
    "version": 3
   },
   "file_extension": ".py",
   "mimetype": "text/x-python",
   "name": "python",
   "nbconvert_exporter": "python",
   "pygments_lexer": "ipython3",
   "version": "3.7.4"
  }
 },
 "nbformat": 4,
 "nbformat_minor": 4
}
